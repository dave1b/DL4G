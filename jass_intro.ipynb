{
 "cells": [
  {
   "cell_type": "markdown",
   "id": "4e81b25c",
   "metadata": {},
   "source": [
    "# DL4G - Jass Introduction\n",
    "\n",
    "In this exercise we will look at some properties of the jass kit environment that can be used to develop your own jass agent.\n",
    "\n",
    "You will need to have numpy installed, as well as the jass-kit environment."
   ]
  },
  {
   "cell_type": "code",
   "execution_count": 454,
   "id": "d018e803",
   "metadata": {
    "collapsed": false
   },
   "outputs": [],
   "source": [
    "from jass.game.game_util import *\n",
    "from jass.game.game_sim import GameSim\n",
    "from jass.game.game_observation import GameObservation\n",
    "from jass.game.const import *\n",
    "from jass.game.rule_schieber import RuleSchieber\n",
    "from jass.agents.agent import Agent\n",
    "from jass.agents.agent_random_schieber import AgentRandomSchieber\n",
    "from jass.arena.arena import Arena\n"
   ]
  },
  {
   "cell_type": "markdown",
   "id": "9d510b9e",
   "metadata": {},
   "source": [
    "Information about the cards is stored as one-hot encoded arrays, there are several tools available to access the information in the cards. \n",
    "\n",
    "Lets deal some random cards first."
   ]
  },
  {
   "cell_type": "code",
   "execution_count": 455,
   "id": "19767850",
   "metadata": {},
   "outputs": [
    {
     "name": "stdout",
     "output_type": "stream",
     "text": [
      "(4, 36)\n"
     ]
    }
   ],
   "source": [
    "# Lets set the seed of the random number generater, so that we get the same results\n",
    "np.random.seed(1)\n",
    "\n",
    "# This distributes the cards randomly among the 4 players.\n",
    "hands = deal_random_hand()\n",
    "print(hands.shape)"
   ]
  },
  {
   "cell_type": "code",
   "execution_count": 456,
   "id": "dcd87887",
   "metadata": {},
   "outputs": [
    {
     "name": "stdout",
     "output_type": "stream",
     "text": [
      "[0 0 0 1 0 0 0 0 0 0 0 0 0 0 0 0 0 1 0 1 0 1 0 1 0 0 0 0 1 1 1 0 0 0 1 0]\n"
     ]
    }
   ],
   "source": [
    "# There is an entry for each player, to access the cards of the first player\n",
    "cards = hands[0, :]\n",
    "print(cards)"
   ]
  },
  {
   "cell_type": "code",
   "execution_count": 457,
   "id": "486c3664",
   "metadata": {},
   "outputs": [
    {
     "name": "stdout",
     "output_type": "stream",
     "text": [
      "['DJ', 'H6', 'SK', 'SJ', 'S9', 'CK', 'CQ', 'CJ', 'C7']\n",
      "[3, 17, 19, 21, 23, 28, 29, 30, 34]\n"
     ]
    }
   ],
   "source": [
    "# This should be 9 cards\n",
    "assert (cards.sum() == 9)\n",
    "\n",
    "# The cards can be converted to other formats for easier reading or processing\n",
    "print(convert_one_hot_encoded_cards_to_str_encoded_list(cards))\n",
    "\n",
    "# Each card is encoded as a value between 0 and 35.\n",
    "print(convert_one_hot_encoded_cards_to_int_encoded_list(cards))"
   ]
  },
  {
   "cell_type": "code",
   "execution_count": 458,
   "outputs": [
    {
     "data": {
      "text/plain": "[0, 9, 18, 27]"
     },
     "execution_count": 458,
     "metadata": {},
     "output_type": "execute_result"
    }
   ],
   "source": [
    "convert_str_encoded_cards_to_int_encoded([\"DA\", \"HA\", \"SA\", \"CA\"])"
   ],
   "metadata": {
    "collapsed": false
   }
  },
  {
   "cell_type": "code",
   "execution_count": 459,
   "id": "89294107",
   "metadata": {},
   "outputs": [
    {
     "name": "stdout",
     "output_type": "stream",
     "text": [
      "[1 1 3 4]\n"
     ]
    }
   ],
   "source": [
    "# There is a method to count colors too\n",
    "colors = count_colors(cards)\n",
    "print(colors)"
   ]
  },
  {
   "cell_type": "markdown",
   "id": "04f591d7",
   "metadata": {},
   "source": [
    "There is a common jass \"rule\" to select trump, when you have the \"Puur\" (Jack of trump) and 3 or more other cards of the same color. \n",
    "\n",
    "Task 1: Write a function that returns an array of 4 values that contains a 1 for each color that fulfills the rule or 0 otherwise, i.e. [0 0 0 0] is returned, if you do not have any color with Jack and 3 other cards.\n"
   ]
  },
  {
   "cell_type": "code",
   "execution_count": 460,
   "id": "92845f51",
   "metadata": {},
   "outputs": [],
   "source": [
    "def havePuurWithFour(hand: np.ndarray) -> np.ndarray:\n",
    "    encoded_hand = convert_one_hot_encoded_cards_to_str_encoded_list(hand)\n",
    "    colors_count = count_colors(hand)\n",
    "    result = np.zeros(4, dtype=int)\n",
    "    if \"DJ\" in encoded_hand:\n",
    "        print(\"Hat diamond Buur\")\n",
    "        if (colors_count[0] >= 4):\n",
    "            result[0] = 1\n",
    "\n",
    "    if \"HJ\" in encoded_hand:\n",
    "        print(\"Hat heart Buur\")\n",
    "        if (colors_count[1] >= 4):\n",
    "            result[1] = 1\n",
    "\n",
    "    if \"SJ\" in encoded_hand:\n",
    "        print(\"Hat spade Buur\")\n",
    "        if (colors_count[2] >= 4):\n",
    "            result[2] = 1\n",
    "\n",
    "    if \"CJ\" in encoded_hand:\n",
    "        print(\"Hat club Buur\")\n",
    "        if (colors_count[3] >= 4):\n",
    "            result[3] = 1\n",
    "    return result"
   ]
  },
  {
   "cell_type": "code",
   "execution_count": 461,
   "id": "b1bb875a",
   "metadata": {},
   "outputs": [
    {
     "name": "stdout",
     "output_type": "stream",
     "text": [
      "Hat diamond Buur\n",
      "Hat spade Buur\n",
      "Hat club Buur\n"
     ]
    }
   ],
   "source": [
    "assert (havePuurWithFour(cards) == [0, 0, 0, 1]).all()\n",
    "cards_2 = hands[1, :]\n",
    "assert (havePuurWithFour(cards_2) == [0, 0, 0, 0]).all()"
   ]
  },
  {
   "cell_type": "markdown",
   "id": "48371ec4",
   "metadata": {},
   "source": [
    "Another possibility to select trump is by assigning a value to each card, depending on whether the color is trump or not. This table is from the Maturawork of Daniel Graf from 2009: \"Jassen auf Basis der Spieltheorie\"."
   ]
  },
  {
   "cell_type": "code",
   "execution_count": 462,
   "id": "01b078f3",
   "metadata": {},
   "outputs": [],
   "source": [
    "# Score for each card of a color from Ace to 6\n",
    "\n",
    "# score if the color is trump\n",
    "trump_score = [15, 10, 7, 25, 6, 19, 5, 5, 5]\n",
    "# score if the color is not trump\n",
    "no_trump_score = [9, 7, 5, 2, 1, 0, 0, 0, 0]\n",
    "# score if obenabe is selected (all colors)\n",
    "obenabe_score = [14, 10, 8, 7, 5, 0, 5, 0, 0, ]\n",
    "# score if uneufe is selected (all colors)\n",
    "uneufe_score = [0, 2, 1, 1, 5, 5, 7, 9, 11]"
   ]
  },
  {
   "cell_type": "markdown",
   "id": "ddd00b63",
   "metadata": {},
   "source": [
    "Task 2: Implement a function that evaluates a hand that is given as a list of 9 cards and with a given trump value and returns a score depending on the table above. For example the score of our hand ['DJ', 'H6', 'SK', 'SJ', 'S9', 'CK', 'CQ', 'CJ', 'C7'] when Club is trump should be:\n",
    "\n",
    "2 + 0 + 7 + 2 + 0 + 10 + 7 + 25 + 5 = 58\n",
    "\n",
    "while the score is 70 if Spade is selected, which is better as you have both the jack and the nine.\n",
    "\n",
    "You can use the arrays offset_of_card and color_of_card to get the offset (Ace, King, etc.) and color of a card."
   ]
  },
  {
   "cell_type": "code",
   "execution_count": 463,
   "id": "63297245",
   "metadata": {},
   "outputs": [],
   "source": [
    "def calculate_trump_selection_score(_cards, _trump: int) -> int:\n",
    "    # print(\"hand: \", _cards)\n",
    "    # print(\"trump: \", _trump)\n",
    "    _score = 0\n",
    "    for card in _cards:\n",
    "        # print(\"trump: 0 - card: \", card)\n",
    "        if 0 <= card <= 8:\n",
    "            if _trump == 0:\n",
    "                _score += trump_score[card]\n",
    "            else:\n",
    "                _score += no_trump_score[card]\n",
    "\n",
    "    for card in _cards:\n",
    "        card -= 8\n",
    "        # print(\"trump: 1 - card: \", card)\n",
    "        if 0 <= card <= 8:\n",
    "            if _trump == 1:\n",
    "                _score += trump_score[card]\n",
    "            else:\n",
    "                _score += no_trump_score[card]\n",
    "\n",
    "    for card in _cards:\n",
    "        card -= 18\n",
    "        # print(\"trump: 2 - card: \", card)\n",
    "        if 0 <= card <= 8:\n",
    "            if _trump == 2:\n",
    "                _score += trump_score[card]\n",
    "            else:\n",
    "                _score += no_trump_score[card]\n",
    "\n",
    "    for card in _cards:\n",
    "        card -= 27\n",
    "        # print(\"trump: 3 - card: \", card)\n",
    "        if 0 <= card <= 8:\n",
    "            if _trump == 3:\n",
    "                _score += trump_score[card]\n",
    "            else:\n",
    "                _score += no_trump_score[card]\n",
    "\n",
    "    # print(\"score: \", _score)\n",
    "    return _score"
   ]
  },
  {
   "cell_type": "code",
   "execution_count": 464,
   "id": "0ae55a9d",
   "metadata": {},
   "outputs": [],
   "source": [
    "card_list = convert_one_hot_encoded_cards_to_int_encoded_list(cards)\n",
    "assert calculate_trump_selection_score(card_list, CLUBS) == 58\n",
    "assert calculate_trump_selection_score(card_list, SPADES) == 70"
   ]
  },
  {
   "cell_type": "markdown",
   "id": "4ec0d316",
   "metadata": {},
   "source": [
    "## Agents\n",
    "\n",
    "In order to play a game you have to program an agent that decides on the action. For that you have to override the methods action_trump and action_play_card.\n",
    "\n",
    "Task 3: Use the function implemented above to select the best trump value. If the calculated trump value is below a threshold (for example let us take 68, as suggested in the work by Daniel Graf) you should \"Schiebe\", i.e. pass to your partner if you are still allowed to do that.\n",
    "\n",
    "The game observation allows you to access the information about your card, and if you are the first or second player to select trump.\n",
    "\n",
    "For playing a card, we just take a random action."
   ]
  },
  {
   "cell_type": "code",
   "execution_count": 465,
   "id": "2c8a0c7e",
   "metadata": {},
   "outputs": [],
   "source": [
    "class MyAgent(Agent):\n",
    "    def __init__(self):\n",
    "        super().__init__()\n",
    "        # we need a rule object to determine the valid cards\n",
    "        self._rule = RuleSchieber()\n",
    "        self.minTrumpValue = 68\n",
    "\n",
    "    def action_trump(self, obs: GameObservation) -> int:\n",
    "        # print(obs.forehand)\n",
    "        _trump_scores = np.zeros(4, dtype=int)\n",
    "        _best_trump = None\n",
    "\n",
    "        for _trumpIndex in range(4):\n",
    "            _int_encoded_hand = convert_one_hot_encoded_cards_to_int_encoded_list(obs.hand)\n",
    "            _trump_scores[_trumpIndex] = calculate_trump_selection_score(_int_encoded_hand, _trumpIndex)\n",
    "\n",
    "        _best_trump, = np.where(_trump_scores == _trump_scores.max())\n",
    "        # print(\"bester trumpf: \", _best_trump)\n",
    "        # print(\"largest points \", _trump_scores.max(), \" with trump\", _best_trump)\n",
    "\n",
    "        if obs.forehand == -1:\n",
    "            if (_trump_scores.max() >= self.minTrumpValue):\n",
    "                return _best_trump\n",
    "            else:\n",
    "                return PUSH\n",
    "        if obs.forehand == 0:\n",
    "            return _best_trump\n",
    "\n",
    "    def action_play_card(self, obs: GameObservation) -> int:\n",
    "        \"\"\"\n",
    "        Determine the card to play.\n",
    "\n",
    "        Args:\n",
    "            obs: the game observation\n",
    "\n",
    "        Returns:\n",
    "            the card to play, int encoded as defined in jass.game.const\n",
    "        \"\"\"\n",
    "        valid_cards = self._rule.get_valid_cards_from_obs(obs)\n",
    "        # we use the global random number generator here\n",
    "        return np.random.choice(np.flatnonzero(valid_cards))\n",
    "\n"
   ]
  },
  {
   "cell_type": "markdown",
   "id": "1f5b305a",
   "metadata": {},
   "source": [
    "We can use the game simulation to play a game. We will use that to test our implementation, and then use the arena class to play against other agents"
   ]
  },
  {
   "cell_type": "code",
   "execution_count": 466,
   "id": "91df4f83",
   "metadata": {},
   "outputs": [],
   "source": [
    "rule = RuleSchieber()\n",
    "game = GameSim(rule=rule)\n",
    "agent = MyAgent()\n",
    "\n",
    "np.random.seed(1)\n",
    "game.init_from_cards(hands=deal_random_hand(), dealer=NORTH)"
   ]
  },
  {
   "cell_type": "code",
   "execution_count": 467,
   "id": "1f177a07",
   "metadata": {},
   "outputs": [],
   "source": [
    "obs = game.get_observation()"
   ]
  },
  {
   "cell_type": "code",
   "execution_count": 468,
   "id": "768c5cce",
   "metadata": {},
   "outputs": [
    {
     "name": "stdout",
     "output_type": "stream",
     "text": [
      "['DA', 'DK', 'D9', 'D6', 'HA', 'HQ', 'HJ', 'H8', 'H7']\n"
     ]
    }
   ],
   "source": [
    "cards = convert_one_hot_encoded_cards_to_str_encoded_list(obs.hand)\n",
    "print(cards)\n",
    "trump = agent.action_trump(obs)\n",
    "assert trump == HEARTS"
   ]
  },
  {
   "cell_type": "code",
   "execution_count": 469,
   "id": "9ccc8b9e",
   "metadata": {},
   "outputs": [],
   "source": [
    "# tell the simulation the selected trump\n",
    "game.action_trump(trump)"
   ]
  },
  {
   "cell_type": "code",
   "execution_count": 470,
   "id": "eb8c2956",
   "metadata": {},
   "outputs": [
    {
     "name": "stdout",
     "output_type": "stream",
     "text": [
      "[ 10 147]\n"
     ]
    }
   ],
   "source": [
    "# play the game to the end and print the result\n",
    "while not game.is_done():\n",
    "    game.action_play_card(agent.action_play_card(game.get_observation()))\n",
    "\n",
    "print(game.state.points)"
   ]
  },
  {
   "cell_type": "markdown",
   "id": "b33d069e",
   "metadata": {},
   "source": [
    "Another possibility to test agents locally is to use the arena. Let us play 100 games against the Random Agent and see if our trump methods makes any difference.\n"
   ]
  },
  {
   "cell_type": "code",
   "execution_count": 471,
   "id": "07c99989",
   "metadata": {},
   "outputs": [],
   "source": [
    "arena = Arena(nr_games_to_play=100)\n",
    "arena.set_players(MyAgent(), AgentRandomSchieber(), MyAgent(), AgentRandomSchieber())"
   ]
  },
  {
   "cell_type": "code",
   "execution_count": 472,
   "id": "ba8464b5",
   "metadata": {},
   "outputs": [
    {
     "name": "stdout",
     "output_type": "stream",
     "text": [
      "[........................................]  100/ 100 games played\n"
     ]
    }
   ],
   "source": [
    "arena.play_all_games()"
   ]
  },
  {
   "cell_type": "code",
   "execution_count": 473,
   "id": "05179929",
   "metadata": {},
   "outputs": [
    {
     "name": "stdout",
     "output_type": "stream",
     "text": [
      "9313.0 6387.0\n"
     ]
    }
   ],
   "source": [
    "print(arena.points_team_0.sum(), arena.points_team_1.sum())"
   ]
  },
  {
   "cell_type": "markdown",
   "id": "dd500485",
   "metadata": {},
   "source": [
    "Now you can continue with a rule based implemenation of the card play. Also look at the flask implementation of the service to see how you can get your agent online."
   ]
  }
 ],
 "metadata": {
  "kernelspec": {
   "display_name": "Python 3.9.13 ('DL4G-xN77NjMz')",
   "language": "python",
   "name": "python3"
  },
  "language_info": {
   "codemirror_mode": {
    "name": "ipython",
    "version": 3
   },
   "file_extension": ".py",
   "mimetype": "text/x-python",
   "name": "python",
   "nbconvert_exporter": "python",
   "pygments_lexer": "ipython3",
   "version": "3.9.13"
  },
  "vscode": {
   "interpreter": {
    "hash": "31f6ee482879318801153e9cb5c2346fc9c66152f6990964d92d7129b252c2f3"
   }
  }
 },
 "nbformat": 4,
 "nbformat_minor": 5
}
