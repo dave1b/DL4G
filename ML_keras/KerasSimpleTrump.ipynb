{
 "cells": [
  {
   "cell_type": "markdown",
   "metadata": {},
   "source": [
    "# Example for a simple neural network\n",
    "\n",
    "## Trump by maximum color (2 colors)\n",
    "\n",
    "The inputs to the network are the number of cards of each color. The network should learn to select the color with the largest number of cards of that color.\n",
    "\n",
    "For a simple example, let us assume that there are 5 cards in total for a player and only 2 colors.\n",
    "\n",
    "### Libraries\n",
    "\n",
    "We use the keras library for building, training and evaluating the network. A tutorial for keras can be found on (https://keras.io/) or https://www.tensorflow.org/guide/keras. There are different implementations of keras, here I will use the one build on tensorflow.\n"
   ]
  },
  {
   "cell_type": "code",
   "execution_count": 1,
   "metadata": {},
   "outputs": [],
   "source": [
    "import numpy as np\n",
    "import tensorflow as tf\n",
    "from tensorflow import keras"
   ]
  },
  {
   "cell_type": "markdown",
   "metadata": {},
   "source": [
    "### Output function\n",
    "\n",
    "We have to encode the output somehow, for two classes, the simplest solution is a single variable that should be 0 if there are more cards of color 0 and 1 if there are more cards of color 1.\n",
    "\n",
    "### Training and label data.\n",
    "\n",
    "So we can prepare some training data. In this simple case, all the possible configurations are actually known.\n"
   ]
  },
  {
   "cell_type": "code",
   "execution_count": 2,
   "metadata": {},
   "outputs": [
    {
     "name": "stdout",
     "output_type": "stream",
     "text": [
      "[[0. 5.]\n",
      " [1. 4.]\n",
      " [2. 3.]\n",
      " [3. 2.]\n",
      " [4. 1.]\n",
      " [5. 0.]]\n",
      "[1. 1. 1. 0. 0. 0.]\n"
     ]
    }
   ],
   "source": [
    "x_train = np.array([\n",
    "    [0, 5],\n",
    "    [1, 4],\n",
    "    [2, 3],\n",
    "    [3, 2],\n",
    "    [4, 1],\n",
    "    [5, 0],\n",
    "], dtype=np.float32)\n",
    "y_train = np.array([1, 1, 1, 0, 0, 0, ], dtype=np.float32)\n",
    "print(x_train)\n",
    "print(y_train)"
   ]
  },
  {
   "cell_type": "markdown",
   "metadata": {},
   "source": [
    "### Normalisation\n",
    "\n",
    "Input data can have different ranges. It is always a good idea (in other words absolutely essential) to normalize the input data. This is usually done into the range 0..1 or -1..1"
   ]
  },
  {
   "cell_type": "code",
   "execution_count": 65,
   "metadata": {},
   "outputs": [
    {
     "name": "stdout",
     "output_type": "stream",
     "text": [
      "[[0.  1. ]\n",
      " [0.2 0.8]\n",
      " [0.4 0.6]\n",
      " [0.6 0.4]\n",
      " [0.8 0.2]\n",
      " [1.  0. ]]\n"
     ]
    }
   ],
   "source": [
    "x_train = x_train / 5.0\n",
    "print(x_train)"
   ]
  },
  {
   "cell_type": "markdown",
   "metadata": {},
   "source": [
    "### A first network.\n",
    "\n",
    "We will start with a very simple network, where we connect the inputs directly to the output. So there will be 2 variables, the weights for the connection and the bias. The output function is a sigmoid, which takes values between 0 and 1.\n",
    "\n",
    "With keras, we first have to create the type of model we want (Sequential), and can then add layers. In the tensorflow implementation, we have to add the input_shape parameter in the first layer to tell it the format of the input. This does not include the batch dimension."
   ]
  },
  {
   "cell_type": "code",
   "execution_count": 66,
   "metadata": {},
   "outputs": [],
   "source": [
    "model = keras.Sequential()\n",
    "model.add(keras.layers.Dense(1, activation='sigmoid', input_shape=[2]))"
   ]
  },
  {
   "cell_type": "markdown",
   "metadata": {},
   "source": [
    "Next we have to compile the model and tell it what loss function and optimizer we want to have. We will take a mean squared error for loss function first. (This is actually not optimal and will be corrected in an exercise).\n",
    "\n",
    "Besides the loss, we usually want to look at some metrics. Here we choose accuracy, that measures how often the network makes the correct decision (see last lecture)."
   ]
  },
  {
   "cell_type": "code",
   "execution_count": 67,
   "metadata": {},
   "outputs": [],
   "source": [
    "model.compile(loss='mse',\n",
    "              optimizer='sgd',\n",
    "              metrics=['accuracy'])\n"
   ]
  },
  {
   "cell_type": "markdown",
   "metadata": {},
   "source": [
    "We can print some details about the model."
   ]
  },
  {
   "cell_type": "code",
   "execution_count": 68,
   "metadata": {},
   "outputs": [
    {
     "name": "stdout",
     "output_type": "stream",
     "text": [
      "Model: \"sequential_9\"\n",
      "_________________________________________________________________\n",
      " Layer (type)                Output Shape              Param #   \n",
      "=================================================================\n",
      " dense_21 (Dense)            (None, 1)                 3         \n",
      "                                                                 \n",
      "=================================================================\n",
      "Total params: 3\n",
      "Trainable params: 3\n",
      "Non-trainable params: 0\n",
      "_________________________________________________________________\n",
      "[array([[0.68495166],\n",
      "       [0.32549334]], dtype=float32), array([0.], dtype=float32)]\n"
     ]
    }
   ],
   "source": [
    "model.summary()\n",
    "print(model.get_weights())"
   ]
  },
  {
   "cell_type": "markdown",
   "metadata": {},
   "source": [
    "We can either train one batch, or we can use fit to train repeatedly. The result from the training is the loss function and the metric."
   ]
  },
  {
   "cell_type": "code",
   "execution_count": 69,
   "metadata": {},
   "outputs": [
    {
     "data": {
      "text/plain": "[0.2912900447845459, 0.5]"
     },
     "execution_count": 69,
     "metadata": {},
     "output_type": "execute_result"
    }
   ],
   "source": [
    "model.train_on_batch(x_train, y_train)"
   ]
  },
  {
   "cell_type": "markdown",
   "metadata": {},
   "source": [
    "We can now try to fit the data in minibatches multiple times. This will calculate the weights, so as to minimize the loss. We might not always get a good result in the first try and even this very simple network seems to need a large number of training steps."
   ]
  },
  {
   "cell_type": "code",
   "execution_count": 70,
   "metadata": {},
   "outputs": [
    {
     "name": "stdout",
     "output_type": "stream",
     "text": [
      "Epoch 1/100\n",
      "1/1 [==============================] - 0s 5ms/step - loss: 0.2911 - accuracy: 0.5000\n",
      "Epoch 2/100\n",
      "1/1 [==============================] - 0s 3ms/step - loss: 0.2910 - accuracy: 0.5000\n",
      "Epoch 3/100\n",
      "1/1 [==============================] - 0s 3ms/step - loss: 0.2908 - accuracy: 0.5000\n",
      "Epoch 4/100\n",
      "1/1 [==============================] - 0s 2ms/step - loss: 0.2907 - accuracy: 0.5000\n",
      "Epoch 5/100\n",
      "1/1 [==============================] - 0s 3ms/step - loss: 0.2905 - accuracy: 0.5000\n",
      "Epoch 6/100\n",
      "1/1 [==============================] - 0s 2ms/step - loss: 0.2904 - accuracy: 0.5000\n",
      "Epoch 7/100\n",
      "1/1 [==============================] - 0s 3ms/step - loss: 0.2902 - accuracy: 0.5000\n",
      "Epoch 8/100\n",
      "1/1 [==============================] - 0s 3ms/step - loss: 0.2901 - accuracy: 0.5000\n",
      "Epoch 9/100\n",
      "1/1 [==============================] - 0s 2ms/step - loss: 0.2900 - accuracy: 0.5000\n",
      "Epoch 10/100\n",
      "1/1 [==============================] - 0s 2ms/step - loss: 0.2898 - accuracy: 0.5000\n",
      "Epoch 11/100\n",
      "1/1 [==============================] - 0s 2ms/step - loss: 0.2897 - accuracy: 0.5000\n",
      "Epoch 12/100\n",
      "1/1 [==============================] - 0s 3ms/step - loss: 0.2895 - accuracy: 0.5000\n",
      "Epoch 13/100\n",
      "1/1 [==============================] - 0s 3ms/step - loss: 0.2894 - accuracy: 0.5000\n",
      "Epoch 14/100\n",
      "1/1 [==============================] - 0s 2ms/step - loss: 0.2892 - accuracy: 0.5000\n",
      "Epoch 15/100\n",
      "1/1 [==============================] - 0s 2ms/step - loss: 0.2891 - accuracy: 0.5000\n",
      "Epoch 16/100\n",
      "1/1 [==============================] - 0s 2ms/step - loss: 0.2889 - accuracy: 0.5000\n",
      "Epoch 17/100\n",
      "1/1 [==============================] - 0s 3ms/step - loss: 0.2888 - accuracy: 0.5000\n",
      "Epoch 18/100\n",
      "1/1 [==============================] - 0s 3ms/step - loss: 0.2886 - accuracy: 0.5000\n",
      "Epoch 19/100\n",
      "1/1 [==============================] - 0s 2ms/step - loss: 0.2885 - accuracy: 0.5000\n",
      "Epoch 20/100\n",
      "1/1 [==============================] - 0s 2ms/step - loss: 0.2883 - accuracy: 0.5000\n",
      "Epoch 21/100\n",
      "1/1 [==============================] - 0s 3ms/step - loss: 0.2882 - accuracy: 0.5000\n",
      "Epoch 22/100\n",
      "1/1 [==============================] - 0s 3ms/step - loss: 0.2880 - accuracy: 0.5000\n",
      "Epoch 23/100\n",
      "1/1 [==============================] - 0s 2ms/step - loss: 0.2879 - accuracy: 0.5000\n",
      "Epoch 24/100\n",
      "1/1 [==============================] - 0s 2ms/step - loss: 0.2877 - accuracy: 0.5000\n",
      "Epoch 25/100\n",
      "1/1 [==============================] - 0s 3ms/step - loss: 0.2876 - accuracy: 0.5000\n",
      "Epoch 26/100\n",
      "1/1 [==============================] - 0s 3ms/step - loss: 0.2874 - accuracy: 0.5000\n",
      "Epoch 27/100\n",
      "1/1 [==============================] - 0s 2ms/step - loss: 0.2873 - accuracy: 0.5000\n",
      "Epoch 28/100\n",
      "1/1 [==============================] - 0s 2ms/step - loss: 0.2871 - accuracy: 0.5000\n",
      "Epoch 29/100\n",
      "1/1 [==============================] - 0s 3ms/step - loss: 0.2870 - accuracy: 0.5000\n",
      "Epoch 30/100\n",
      "1/1 [==============================] - 0s 2ms/step - loss: 0.2868 - accuracy: 0.5000\n",
      "Epoch 31/100\n",
      "1/1 [==============================] - 0s 3ms/step - loss: 0.2867 - accuracy: 0.5000\n",
      "Epoch 32/100\n",
      "1/1 [==============================] - 0s 2ms/step - loss: 0.2865 - accuracy: 0.5000\n",
      "Epoch 33/100\n",
      "1/1 [==============================] - 0s 3ms/step - loss: 0.2864 - accuracy: 0.5000\n",
      "Epoch 34/100\n",
      "1/1 [==============================] - 0s 2ms/step - loss: 0.2863 - accuracy: 0.5000\n",
      "Epoch 35/100\n",
      "1/1 [==============================] - 0s 2ms/step - loss: 0.2861 - accuracy: 0.5000\n",
      "Epoch 36/100\n",
      "1/1 [==============================] - 0s 3ms/step - loss: 0.2860 - accuracy: 0.5000\n",
      "Epoch 37/100\n",
      "1/1 [==============================] - 0s 2ms/step - loss: 0.2858 - accuracy: 0.5000\n",
      "Epoch 38/100\n",
      "1/1 [==============================] - 0s 3ms/step - loss: 0.2857 - accuracy: 0.5000\n",
      "Epoch 39/100\n",
      "1/1 [==============================] - 0s 3ms/step - loss: 0.2855 - accuracy: 0.5000\n",
      "Epoch 40/100\n",
      "1/1 [==============================] - 0s 3ms/step - loss: 0.2854 - accuracy: 0.5000\n",
      "Epoch 41/100\n",
      "1/1 [==============================] - 0s 3ms/step - loss: 0.2852 - accuracy: 0.5000\n",
      "Epoch 42/100\n",
      "1/1 [==============================] - 0s 3ms/step - loss: 0.2851 - accuracy: 0.5000\n",
      "Epoch 43/100\n",
      "1/1 [==============================] - 0s 3ms/step - loss: 0.2849 - accuracy: 0.5000\n",
      "Epoch 44/100\n",
      "1/1 [==============================] - 0s 3ms/step - loss: 0.2848 - accuracy: 0.5000\n",
      "Epoch 45/100\n",
      "1/1 [==============================] - 0s 2ms/step - loss: 0.2846 - accuracy: 0.5000\n",
      "Epoch 46/100\n",
      "1/1 [==============================] - 0s 2ms/step - loss: 0.2845 - accuracy: 0.5000\n",
      "Epoch 47/100\n",
      "1/1 [==============================] - 0s 4ms/step - loss: 0.2843 - accuracy: 0.5000\n",
      "Epoch 48/100\n",
      "1/1 [==============================] - 0s 4ms/step - loss: 0.2842 - accuracy: 0.5000\n",
      "Epoch 49/100\n",
      "1/1 [==============================] - 0s 3ms/step - loss: 0.2841 - accuracy: 0.5000\n",
      "Epoch 50/100\n",
      "1/1 [==============================] - 0s 3ms/step - loss: 0.2839 - accuracy: 0.5000\n",
      "Epoch 51/100\n",
      "1/1 [==============================] - 0s 3ms/step - loss: 0.2838 - accuracy: 0.5000\n",
      "Epoch 52/100\n",
      "1/1 [==============================] - 0s 3ms/step - loss: 0.2836 - accuracy: 0.5000\n",
      "Epoch 53/100\n",
      "1/1 [==============================] - 0s 2ms/step - loss: 0.2835 - accuracy: 0.5000\n",
      "Epoch 54/100\n",
      "1/1 [==============================] - 0s 4ms/step - loss: 0.2833 - accuracy: 0.5000\n",
      "Epoch 55/100\n",
      "1/1 [==============================] - 0s 3ms/step - loss: 0.2832 - accuracy: 0.5000\n",
      "Epoch 56/100\n",
      "1/1 [==============================] - 0s 3ms/step - loss: 0.2830 - accuracy: 0.5000\n",
      "Epoch 57/100\n",
      "1/1 [==============================] - 0s 3ms/step - loss: 0.2829 - accuracy: 0.5000\n",
      "Epoch 58/100\n",
      "1/1 [==============================] - 0s 3ms/step - loss: 0.2827 - accuracy: 0.5000\n",
      "Epoch 59/100\n",
      "1/1 [==============================] - 0s 2ms/step - loss: 0.2826 - accuracy: 0.5000\n",
      "Epoch 60/100\n",
      "1/1 [==============================] - 0s 2ms/step - loss: 0.2824 - accuracy: 0.5000\n",
      "Epoch 61/100\n",
      "1/1 [==============================] - 0s 3ms/step - loss: 0.2823 - accuracy: 0.5000\n",
      "Epoch 62/100\n",
      "1/1 [==============================] - 0s 2ms/step - loss: 0.2822 - accuracy: 0.5000\n",
      "Epoch 63/100\n",
      "1/1 [==============================] - 0s 2ms/step - loss: 0.2820 - accuracy: 0.5000\n",
      "Epoch 64/100\n",
      "1/1 [==============================] - 0s 3ms/step - loss: 0.2819 - accuracy: 0.5000\n",
      "Epoch 65/100\n",
      "1/1 [==============================] - 0s 3ms/step - loss: 0.2817 - accuracy: 0.5000\n",
      "Epoch 66/100\n",
      "1/1 [==============================] - 0s 3ms/step - loss: 0.2816 - accuracy: 0.5000\n",
      "Epoch 67/100\n",
      "1/1 [==============================] - 0s 2ms/step - loss: 0.2814 - accuracy: 0.5000\n",
      "Epoch 68/100\n",
      "1/1 [==============================] - 0s 4ms/step - loss: 0.2813 - accuracy: 0.5000\n",
      "Epoch 69/100\n",
      "1/1 [==============================] - 0s 2ms/step - loss: 0.2811 - accuracy: 0.5000\n",
      "Epoch 70/100\n",
      "1/1 [==============================] - 0s 4ms/step - loss: 0.2810 - accuracy: 0.5000\n",
      "Epoch 71/100\n",
      "1/1 [==============================] - 0s 3ms/step - loss: 0.2808 - accuracy: 0.5000\n",
      "Epoch 72/100\n",
      "1/1 [==============================] - 0s 4ms/step - loss: 0.2807 - accuracy: 0.5000\n",
      "Epoch 73/100\n",
      "1/1 [==============================] - 0s 2ms/step - loss: 0.2806 - accuracy: 0.5000\n",
      "Epoch 74/100\n",
      "1/1 [==============================] - 0s 3ms/step - loss: 0.2804 - accuracy: 0.5000\n",
      "Epoch 75/100\n",
      "1/1 [==============================] - 0s 3ms/step - loss: 0.2803 - accuracy: 0.5000\n",
      "Epoch 76/100\n",
      "1/1 [==============================] - 0s 3ms/step - loss: 0.2801 - accuracy: 0.5000\n",
      "Epoch 77/100\n",
      "1/1 [==============================] - 0s 3ms/step - loss: 0.2800 - accuracy: 0.5000\n",
      "Epoch 78/100\n",
      "1/1 [==============================] - 0s 3ms/step - loss: 0.2798 - accuracy: 0.5000\n",
      "Epoch 79/100\n",
      "1/1 [==============================] - 0s 3ms/step - loss: 0.2797 - accuracy: 0.5000\n",
      "Epoch 80/100\n",
      "1/1 [==============================] - 0s 3ms/step - loss: 0.2795 - accuracy: 0.5000\n",
      "Epoch 81/100\n",
      "1/1 [==============================] - 0s 2ms/step - loss: 0.2794 - accuracy: 0.5000\n",
      "Epoch 82/100\n",
      "1/1 [==============================] - 0s 2ms/step - loss: 0.2793 - accuracy: 0.5000\n",
      "Epoch 83/100\n",
      "1/1 [==============================] - 0s 3ms/step - loss: 0.2791 - accuracy: 0.5000\n",
      "Epoch 84/100\n",
      "1/1 [==============================] - 0s 3ms/step - loss: 0.2790 - accuracy: 0.5000\n",
      "Epoch 85/100\n",
      "1/1 [==============================] - 0s 2ms/step - loss: 0.2788 - accuracy: 0.5000\n",
      "Epoch 86/100\n",
      "1/1 [==============================] - 0s 3ms/step - loss: 0.2787 - accuracy: 0.5000\n",
      "Epoch 87/100\n",
      "1/1 [==============================] - 0s 3ms/step - loss: 0.2785 - accuracy: 0.5000\n",
      "Epoch 88/100\n",
      "1/1 [==============================] - 0s 2ms/step - loss: 0.2784 - accuracy: 0.5000\n",
      "Epoch 89/100\n",
      "1/1 [==============================] - 0s 2ms/step - loss: 0.2782 - accuracy: 0.5000\n",
      "Epoch 90/100\n",
      "1/1 [==============================] - 0s 2ms/step - loss: 0.2781 - accuracy: 0.5000\n",
      "Epoch 91/100\n",
      "1/1 [==============================] - 0s 3ms/step - loss: 0.2780 - accuracy: 0.5000\n",
      "Epoch 92/100\n",
      "1/1 [==============================] - 0s 2ms/step - loss: 0.2778 - accuracy: 0.5000\n",
      "Epoch 93/100\n",
      "1/1 [==============================] - 0s 2ms/step - loss: 0.2777 - accuracy: 0.5000\n",
      "Epoch 94/100\n",
      "1/1 [==============================] - 0s 2ms/step - loss: 0.2775 - accuracy: 0.5000\n",
      "Epoch 95/100\n",
      "1/1 [==============================] - 0s 3ms/step - loss: 0.2774 - accuracy: 0.5000\n",
      "Epoch 96/100\n",
      "1/1 [==============================] - 0s 3ms/step - loss: 0.2772 - accuracy: 0.5000\n",
      "Epoch 97/100\n",
      "1/1 [==============================] - 0s 3ms/step - loss: 0.2771 - accuracy: 0.5000\n",
      "Epoch 98/100\n",
      "1/1 [==============================] - 0s 4ms/step - loss: 0.2770 - accuracy: 0.5000\n",
      "Epoch 99/100\n",
      "1/1 [==============================] - 0s 3ms/step - loss: 0.2768 - accuracy: 0.5000\n",
      "Epoch 100/100\n",
      "1/1 [==============================] - 0s 3ms/step - loss: 0.2767 - accuracy: 0.5000\n"
     ]
    },
    {
     "data": {
      "text/plain": "<keras.callbacks.History at 0x27ddce47f40>"
     },
     "execution_count": 70,
     "metadata": {},
     "output_type": "execute_result"
    }
   ],
   "source": [
    "model.fit(x_train, y_train, epochs=100, batch_size=6)"
   ]
  },
  {
   "cell_type": "markdown",
   "metadata": {},
   "source": [
    "We can predict the values from the training value. Why are the results floating point number and not 0 or 1? Does the result seem likely?"
   ]
  },
  {
   "cell_type": "code",
   "execution_count": 71,
   "metadata": {},
   "outputs": [
    {
     "name": "stdout",
     "output_type": "stream",
     "text": [
      "1/1 [==============================] - 0s 36ms/step\n"
     ]
    },
    {
     "data": {
      "text/plain": "array([[0.58072937],\n       [0.59090716],\n       [0.6010077 ],\n       [0.61102295],\n       [0.6209454 ],\n       [0.63076764]], dtype=float32)"
     },
     "execution_count": 71,
     "metadata": {},
     "output_type": "execute_result"
    }
   ],
   "source": [
    "model.predict(x_train)"
   ]
  },
  {
   "cell_type": "markdown",
   "metadata": {},
   "source": [
    "We can also print the found weights for each layer:"
   ]
  },
  {
   "cell_type": "code",
   "execution_count": 72,
   "metadata": {},
   "outputs": [
    {
     "name": "stdout",
     "output_type": "stream",
     "text": [
      "dense_21\n",
      "[array([[0.58523333],\n",
      "       [0.37549004]], dtype=float32), array([-0.04972177], dtype=float32)]\n"
     ]
    }
   ],
   "source": [
    "for layer in model.layers:\n",
    "    weights = layer.get_weights()\n",
    "    print(layer.name)\n",
    "    print(weights)"
   ]
  },
  {
   "cell_type": "markdown",
   "metadata": {},
   "source": [
    "How do we find the actual predictions? We use a threshold on the output of the sigmoid function."
   ]
  },
  {
   "cell_type": "code",
   "execution_count": 73,
   "metadata": {},
   "outputs": [
    {
     "name": "stdout",
     "output_type": "stream",
     "text": [
      "1/1 [==============================] - 0s 21ms/step\n"
     ]
    },
    {
     "data": {
      "text/plain": "array([[ True],\n       [ True],\n       [ True],\n       [ True],\n       [ True],\n       [ True]])"
     },
     "execution_count": 73,
     "metadata": {},
     "output_type": "execute_result"
    }
   ],
   "source": [
    "model.predict(x_train) > 0.5"
   ]
  },
  {
   "cell_type": "markdown",
   "metadata": {},
   "source": [
    "### A larger network\n",
    "\n",
    "Lets try a more complicated network with two hidden layers."
   ]
  },
  {
   "cell_type": "code",
   "execution_count": 74,
   "metadata": {},
   "outputs": [],
   "source": [
    "model = keras.Sequential()\n",
    "model.add(keras.layers.Dense(2, activation='relu', input_shape=[2]))  # hidden\n",
    "model.add(keras.layers.Dense(2, activation='relu'))  # hidden\n",
    "model.add(keras.layers.Dense(1, activation='sigmoid'))  # output\n",
    "model.compile(loss='mse',\n",
    "              optimizer='sgd',\n",
    "              metrics=['accuracy'])"
   ]
  },
  {
   "cell_type": "markdown",
   "metadata": {},
   "source": [
    "And train it again..."
   ]
  },
  {
   "cell_type": "code",
   "execution_count": 75,
   "metadata": {},
   "outputs": [
    {
     "name": "stdout",
     "output_type": "stream",
     "text": [
      "Epoch 1/200\n",
      "1/1 [==============================] - 0s 193ms/step - loss: 0.3020 - accuracy: 0.1667\n",
      "Epoch 2/200\n",
      "1/1 [==============================] - 0s 2ms/step - loss: 0.3015 - accuracy: 0.1667\n",
      "Epoch 3/200\n",
      "1/1 [==============================] - 0s 2ms/step - loss: 0.3009 - accuracy: 0.1667\n",
      "Epoch 4/200\n",
      "1/1 [==============================] - 0s 2ms/step - loss: 0.3004 - accuracy: 0.1667\n",
      "Epoch 5/200\n",
      "1/1 [==============================] - 0s 2ms/step - loss: 0.2999 - accuracy: 0.1667\n",
      "Epoch 6/200\n",
      "1/1 [==============================] - 0s 2ms/step - loss: 0.2994 - accuracy: 0.1667\n",
      "Epoch 7/200\n",
      "1/1 [==============================] - 0s 2ms/step - loss: 0.2989 - accuracy: 0.1667\n",
      "Epoch 8/200\n",
      "1/1 [==============================] - 0s 2ms/step - loss: 0.2984 - accuracy: 0.1667\n",
      "Epoch 9/200\n",
      "1/1 [==============================] - 0s 3ms/step - loss: 0.2979 - accuracy: 0.1667\n",
      "Epoch 10/200\n",
      "1/1 [==============================] - 0s 2ms/step - loss: 0.2974 - accuracy: 0.1667\n",
      "Epoch 11/200\n",
      "1/1 [==============================] - 0s 2ms/step - loss: 0.2968 - accuracy: 0.1667\n",
      "Epoch 12/200\n",
      "1/1 [==============================] - 0s 3ms/step - loss: 0.2963 - accuracy: 0.1667\n",
      "Epoch 13/200\n",
      "1/1 [==============================] - 0s 2ms/step - loss: 0.2958 - accuracy: 0.1667\n",
      "Epoch 14/200\n",
      "1/1 [==============================] - 0s 2ms/step - loss: 0.2953 - accuracy: 0.1667\n",
      "Epoch 15/200\n",
      "1/1 [==============================] - 0s 3ms/step - loss: 0.2949 - accuracy: 0.1667\n",
      "Epoch 16/200\n",
      "1/1 [==============================] - 0s 2ms/step - loss: 0.2944 - accuracy: 0.1667\n",
      "Epoch 17/200\n",
      "1/1 [==============================] - 0s 2ms/step - loss: 0.2939 - accuracy: 0.1667\n",
      "Epoch 18/200\n",
      "1/1 [==============================] - 0s 2ms/step - loss: 0.2934 - accuracy: 0.1667\n",
      "Epoch 19/200\n",
      "1/1 [==============================] - 0s 2ms/step - loss: 0.2929 - accuracy: 0.1667\n",
      "Epoch 20/200\n",
      "1/1 [==============================] - 0s 2ms/step - loss: 0.2924 - accuracy: 0.1667\n",
      "Epoch 21/200\n",
      "1/1 [==============================] - 0s 3ms/step - loss: 0.2919 - accuracy: 0.1667\n",
      "Epoch 22/200\n",
      "1/1 [==============================] - 0s 2ms/step - loss: 0.2914 - accuracy: 0.1667\n",
      "Epoch 23/200\n",
      "1/1 [==============================] - 0s 2ms/step - loss: 0.2910 - accuracy: 0.1667\n",
      "Epoch 24/200\n",
      "1/1 [==============================] - 0s 2ms/step - loss: 0.2905 - accuracy: 0.1667\n",
      "Epoch 25/200\n",
      "1/1 [==============================] - 0s 2ms/step - loss: 0.2900 - accuracy: 0.1667\n",
      "Epoch 26/200\n",
      "1/1 [==============================] - 0s 2ms/step - loss: 0.2895 - accuracy: 0.1667\n",
      "Epoch 27/200\n",
      "1/1 [==============================] - 0s 2ms/step - loss: 0.2890 - accuracy: 0.1667\n",
      "Epoch 28/200\n",
      "1/1 [==============================] - 0s 2ms/step - loss: 0.2886 - accuracy: 0.1667\n",
      "Epoch 29/200\n",
      "1/1 [==============================] - 0s 2ms/step - loss: 0.2881 - accuracy: 0.1667\n",
      "Epoch 30/200\n",
      "1/1 [==============================] - 0s 3ms/step - loss: 0.2876 - accuracy: 0.1667\n",
      "Epoch 31/200\n",
      "1/1 [==============================] - 0s 2ms/step - loss: 0.2872 - accuracy: 0.1667\n",
      "Epoch 32/200\n",
      "1/1 [==============================] - 0s 3ms/step - loss: 0.2867 - accuracy: 0.1667\n",
      "Epoch 33/200\n",
      "1/1 [==============================] - 0s 2ms/step - loss: 0.2863 - accuracy: 0.1667\n",
      "Epoch 34/200\n",
      "1/1 [==============================] - 0s 2ms/step - loss: 0.2858 - accuracy: 0.1667\n",
      "Epoch 35/200\n",
      "1/1 [==============================] - 0s 3ms/step - loss: 0.2853 - accuracy: 0.1667\n",
      "Epoch 36/200\n",
      "1/1 [==============================] - 0s 3ms/step - loss: 0.2849 - accuracy: 0.1667\n",
      "Epoch 37/200\n",
      "1/1 [==============================] - 0s 2ms/step - loss: 0.2844 - accuracy: 0.1667\n",
      "Epoch 38/200\n",
      "1/1 [==============================] - 0s 3ms/step - loss: 0.2840 - accuracy: 0.1667\n",
      "Epoch 39/200\n",
      "1/1 [==============================] - 0s 2ms/step - loss: 0.2835 - accuracy: 0.1667\n",
      "Epoch 40/200\n",
      "1/1 [==============================] - 0s 2ms/step - loss: 0.2831 - accuracy: 0.1667\n",
      "Epoch 41/200\n",
      "1/1 [==============================] - 0s 3ms/step - loss: 0.2827 - accuracy: 0.1667\n",
      "Epoch 42/200\n",
      "1/1 [==============================] - 0s 2ms/step - loss: 0.2823 - accuracy: 0.1667\n",
      "Epoch 43/200\n",
      "1/1 [==============================] - 0s 2ms/step - loss: 0.2819 - accuracy: 0.1667\n",
      "Epoch 44/200\n",
      "1/1 [==============================] - 0s 3ms/step - loss: 0.2815 - accuracy: 0.1667\n",
      "Epoch 45/200\n",
      "1/1 [==============================] - 0s 2ms/step - loss: 0.2812 - accuracy: 0.1667\n",
      "Epoch 46/200\n",
      "1/1 [==============================] - 0s 3ms/step - loss: 0.2808 - accuracy: 0.1667\n",
      "Epoch 47/200\n",
      "1/1 [==============================] - 0s 2ms/step - loss: 0.2804 - accuracy: 0.1667\n",
      "Epoch 48/200\n",
      "1/1 [==============================] - 0s 2ms/step - loss: 0.2800 - accuracy: 0.1667\n",
      "Epoch 49/200\n",
      "1/1 [==============================] - 0s 2ms/step - loss: 0.2796 - accuracy: 0.1667\n",
      "Epoch 50/200\n",
      "1/1 [==============================] - 0s 3ms/step - loss: 0.2793 - accuracy: 0.1667\n",
      "Epoch 51/200\n",
      "1/1 [==============================] - 0s 3ms/step - loss: 0.2789 - accuracy: 0.1667\n",
      "Epoch 52/200\n",
      "1/1 [==============================] - 0s 3ms/step - loss: 0.2785 - accuracy: 0.1667\n",
      "Epoch 53/200\n",
      "1/1 [==============================] - 0s 2ms/step - loss: 0.2782 - accuracy: 0.1667\n",
      "Epoch 54/200\n",
      "1/1 [==============================] - 0s 3ms/step - loss: 0.2778 - accuracy: 0.1667\n",
      "Epoch 55/200\n",
      "1/1 [==============================] - 0s 3ms/step - loss: 0.2774 - accuracy: 0.1667\n",
      "Epoch 56/200\n",
      "1/1 [==============================] - 0s 3ms/step - loss: 0.2771 - accuracy: 0.1667\n",
      "Epoch 57/200\n",
      "1/1 [==============================] - 0s 2ms/step - loss: 0.2767 - accuracy: 0.1667\n",
      "Epoch 58/200\n",
      "1/1 [==============================] - 0s 3ms/step - loss: 0.2763 - accuracy: 0.1667\n",
      "Epoch 59/200\n",
      "1/1 [==============================] - 0s 2ms/step - loss: 0.2760 - accuracy: 0.1667\n",
      "Epoch 60/200\n",
      "1/1 [==============================] - 0s 2ms/step - loss: 0.2756 - accuracy: 0.1667\n",
      "Epoch 61/200\n",
      "1/1 [==============================] - 0s 2ms/step - loss: 0.2753 - accuracy: 0.1667\n",
      "Epoch 62/200\n",
      "1/1 [==============================] - 0s 3ms/step - loss: 0.2749 - accuracy: 0.1667\n",
      "Epoch 63/200\n",
      "1/1 [==============================] - 0s 3ms/step - loss: 0.2745 - accuracy: 0.1667\n",
      "Epoch 64/200\n",
      "1/1 [==============================] - 0s 2ms/step - loss: 0.2742 - accuracy: 0.1667\n",
      "Epoch 65/200\n",
      "1/1 [==============================] - 0s 2ms/step - loss: 0.2738 - accuracy: 0.1667\n",
      "Epoch 66/200\n",
      "1/1 [==============================] - 0s 3ms/step - loss: 0.2735 - accuracy: 0.1667\n",
      "Epoch 67/200\n",
      "1/1 [==============================] - 0s 2ms/step - loss: 0.2731 - accuracy: 0.1667\n",
      "Epoch 68/200\n",
      "1/1 [==============================] - 0s 3ms/step - loss: 0.2728 - accuracy: 0.1667\n",
      "Epoch 69/200\n",
      "1/1 [==============================] - 0s 3ms/step - loss: 0.2724 - accuracy: 0.1667\n",
      "Epoch 70/200\n",
      "1/1 [==============================] - 0s 2ms/step - loss: 0.2721 - accuracy: 0.1667\n",
      "Epoch 71/200\n",
      "1/1 [==============================] - 0s 2ms/step - loss: 0.2717 - accuracy: 0.1667\n",
      "Epoch 72/200\n",
      "1/1 [==============================] - 0s 3ms/step - loss: 0.2714 - accuracy: 0.1667\n",
      "Epoch 73/200\n",
      "1/1 [==============================] - 0s 3ms/step - loss: 0.2711 - accuracy: 0.1667\n",
      "Epoch 74/200\n",
      "1/1 [==============================] - 0s 2ms/step - loss: 0.2707 - accuracy: 0.1667\n",
      "Epoch 75/200\n",
      "1/1 [==============================] - 0s 3ms/step - loss: 0.2704 - accuracy: 0.1667\n",
      "Epoch 76/200\n",
      "1/1 [==============================] - 0s 2ms/step - loss: 0.2700 - accuracy: 0.1667\n",
      "Epoch 77/200\n",
      "1/1 [==============================] - 0s 2ms/step - loss: 0.2697 - accuracy: 0.1667\n",
      "Epoch 78/200\n",
      "1/1 [==============================] - 0s 3ms/step - loss: 0.2694 - accuracy: 0.1667\n",
      "Epoch 79/200\n",
      "1/1 [==============================] - 0s 2ms/step - loss: 0.2690 - accuracy: 0.1667\n",
      "Epoch 80/200\n",
      "1/1 [==============================] - 0s 2ms/step - loss: 0.2687 - accuracy: 0.1667\n",
      "Epoch 81/200\n",
      "1/1 [==============================] - 0s 2ms/step - loss: 0.2684 - accuracy: 0.1667\n",
      "Epoch 82/200\n",
      "1/1 [==============================] - 0s 2ms/step - loss: 0.2681 - accuracy: 0.1667\n",
      "Epoch 83/200\n",
      "1/1 [==============================] - 0s 2ms/step - loss: 0.2677 - accuracy: 0.1667\n",
      "Epoch 84/200\n",
      "1/1 [==============================] - 0s 2ms/step - loss: 0.2674 - accuracy: 0.1667\n",
      "Epoch 85/200\n",
      "1/1 [==============================] - 0s 3ms/step - loss: 0.2671 - accuracy: 0.1667\n",
      "Epoch 86/200\n",
      "1/1 [==============================] - 0s 3ms/step - loss: 0.2668 - accuracy: 0.1667\n",
      "Epoch 87/200\n",
      "1/1 [==============================] - 0s 2ms/step - loss: 0.2664 - accuracy: 0.1667\n",
      "Epoch 88/200\n",
      "1/1 [==============================] - 0s 2ms/step - loss: 0.2661 - accuracy: 0.1667\n",
      "Epoch 89/200\n",
      "1/1 [==============================] - 0s 2ms/step - loss: 0.2658 - accuracy: 0.1667\n",
      "Epoch 90/200\n",
      "1/1 [==============================] - 0s 2ms/step - loss: 0.2655 - accuracy: 0.1667\n",
      "Epoch 91/200\n",
      "1/1 [==============================] - 0s 3ms/step - loss: 0.2652 - accuracy: 0.3333\n",
      "Epoch 92/200\n",
      "1/1 [==============================] - 0s 2ms/step - loss: 0.2648 - accuracy: 0.3333\n",
      "Epoch 93/200\n",
      "1/1 [==============================] - 0s 2ms/step - loss: 0.2645 - accuracy: 0.3333\n",
      "Epoch 94/200\n",
      "1/1 [==============================] - 0s 2ms/step - loss: 0.2643 - accuracy: 0.3333\n",
      "Epoch 95/200\n",
      "1/1 [==============================] - 0s 2ms/step - loss: 0.2641 - accuracy: 0.3333\n",
      "Epoch 96/200\n",
      "1/1 [==============================] - 0s 1ms/step - loss: 0.2640 - accuracy: 0.3333\n",
      "Epoch 97/200\n",
      "1/1 [==============================] - 0s 2ms/step - loss: 0.2639 - accuracy: 0.3333\n",
      "Epoch 98/200\n",
      "1/1 [==============================] - 0s 3ms/step - loss: 0.2638 - accuracy: 0.3333\n",
      "Epoch 99/200\n",
      "1/1 [==============================] - 0s 2ms/step - loss: 0.2637 - accuracy: 0.3333\n",
      "Epoch 100/200\n",
      "1/1 [==============================] - 0s 2ms/step - loss: 0.2636 - accuracy: 0.3333\n",
      "Epoch 101/200\n",
      "1/1 [==============================] - 0s 2ms/step - loss: 0.2635 - accuracy: 0.3333\n",
      "Epoch 102/200\n",
      "1/1 [==============================] - 0s 2ms/step - loss: 0.2634 - accuracy: 0.3333\n",
      "Epoch 103/200\n",
      "1/1 [==============================] - 0s 2ms/step - loss: 0.2633 - accuracy: 0.3333\n",
      "Epoch 104/200\n",
      "1/1 [==============================] - 0s 2ms/step - loss: 0.2632 - accuracy: 0.3333\n",
      "Epoch 105/200\n",
      "1/1 [==============================] - 0s 2ms/step - loss: 0.2632 - accuracy: 0.3333\n",
      "Epoch 106/200\n",
      "1/1 [==============================] - 0s 2ms/step - loss: 0.2631 - accuracy: 0.3333\n",
      "Epoch 107/200\n",
      "1/1 [==============================] - 0s 2ms/step - loss: 0.2630 - accuracy: 0.3333\n",
      "Epoch 108/200\n",
      "1/1 [==============================] - 0s 3ms/step - loss: 0.2629 - accuracy: 0.3333\n",
      "Epoch 109/200\n",
      "1/1 [==============================] - 0s 3ms/step - loss: 0.2628 - accuracy: 0.3333\n",
      "Epoch 110/200\n",
      "1/1 [==============================] - 0s 3ms/step - loss: 0.2627 - accuracy: 0.3333\n",
      "Epoch 111/200\n",
      "1/1 [==============================] - 0s 2ms/step - loss: 0.2626 - accuracy: 0.3333\n",
      "Epoch 112/200\n",
      "1/1 [==============================] - 0s 3ms/step - loss: 0.2625 - accuracy: 0.3333\n",
      "Epoch 113/200\n",
      "1/1 [==============================] - 0s 2ms/step - loss: 0.2625 - accuracy: 0.3333\n",
      "Epoch 114/200\n",
      "1/1 [==============================] - 0s 2ms/step - loss: 0.2624 - accuracy: 0.3333\n",
      "Epoch 115/200\n",
      "1/1 [==============================] - 0s 3ms/step - loss: 0.2623 - accuracy: 0.3333\n",
      "Epoch 116/200\n",
      "1/1 [==============================] - 0s 2ms/step - loss: 0.2622 - accuracy: 0.3333\n",
      "Epoch 117/200\n",
      "1/1 [==============================] - 0s 3ms/step - loss: 0.2621 - accuracy: 0.3333\n",
      "Epoch 118/200\n",
      "1/1 [==============================] - 0s 2ms/step - loss: 0.2620 - accuracy: 0.3333\n",
      "Epoch 119/200\n",
      "1/1 [==============================] - 0s 3ms/step - loss: 0.2619 - accuracy: 0.3333\n",
      "Epoch 120/200\n",
      "1/1 [==============================] - 0s 2ms/step - loss: 0.2618 - accuracy: 0.3333\n",
      "Epoch 121/200\n",
      "1/1 [==============================] - 0s 2ms/step - loss: 0.2618 - accuracy: 0.3333\n",
      "Epoch 122/200\n",
      "1/1 [==============================] - 0s 3ms/step - loss: 0.2617 - accuracy: 0.3333\n",
      "Epoch 123/200\n",
      "1/1 [==============================] - 0s 2ms/step - loss: 0.2616 - accuracy: 0.3333\n",
      "Epoch 124/200\n",
      "1/1 [==============================] - 0s 3ms/step - loss: 0.2615 - accuracy: 0.3333\n",
      "Epoch 125/200\n",
      "1/1 [==============================] - 0s 2ms/step - loss: 0.2614 - accuracy: 0.3333\n",
      "Epoch 126/200\n",
      "1/1 [==============================] - 0s 2ms/step - loss: 0.2613 - accuracy: 0.3333\n",
      "Epoch 127/200\n",
      "1/1 [==============================] - 0s 2ms/step - loss: 0.2613 - accuracy: 0.3333\n",
      "Epoch 128/200\n",
      "1/1 [==============================] - 0s 2ms/step - loss: 0.2612 - accuracy: 0.3333\n",
      "Epoch 129/200\n",
      "1/1 [==============================] - 0s 3ms/step - loss: 0.2611 - accuracy: 0.3333\n",
      "Epoch 130/200\n",
      "1/1 [==============================] - 0s 3ms/step - loss: 0.2610 - accuracy: 0.3333\n",
      "Epoch 131/200\n",
      "1/1 [==============================] - 0s 2ms/step - loss: 0.2609 - accuracy: 0.3333\n",
      "Epoch 132/200\n",
      "1/1 [==============================] - 0s 3ms/step - loss: 0.2608 - accuracy: 0.3333\n",
      "Epoch 133/200\n",
      "1/1 [==============================] - 0s 2ms/step - loss: 0.2608 - accuracy: 0.3333\n",
      "Epoch 134/200\n",
      "1/1 [==============================] - 0s 2ms/step - loss: 0.2607 - accuracy: 0.3333\n",
      "Epoch 135/200\n",
      "1/1 [==============================] - 0s 2ms/step - loss: 0.2606 - accuracy: 0.3333\n",
      "Epoch 136/200\n",
      "1/1 [==============================] - 0s 3ms/step - loss: 0.2605 - accuracy: 0.3333\n",
      "Epoch 137/200\n",
      "1/1 [==============================] - 0s 2ms/step - loss: 0.2604 - accuracy: 0.3333\n",
      "Epoch 138/200\n",
      "1/1 [==============================] - 0s 2ms/step - loss: 0.2603 - accuracy: 0.3333\n",
      "Epoch 139/200\n",
      "1/1 [==============================] - 0s 2ms/step - loss: 0.2603 - accuracy: 0.3333\n",
      "Epoch 140/200\n",
      "1/1 [==============================] - 0s 2ms/step - loss: 0.2602 - accuracy: 0.3333\n",
      "Epoch 141/200\n",
      "1/1 [==============================] - 0s 2ms/step - loss: 0.2601 - accuracy: 0.3333\n",
      "Epoch 142/200\n",
      "1/1 [==============================] - 0s 3ms/step - loss: 0.2600 - accuracy: 0.3333\n",
      "Epoch 143/200\n",
      "1/1 [==============================] - 0s 3ms/step - loss: 0.2599 - accuracy: 0.3333\n",
      "Epoch 144/200\n",
      "1/1 [==============================] - 0s 2ms/step - loss: 0.2599 - accuracy: 0.3333\n",
      "Epoch 145/200\n",
      "1/1 [==============================] - 0s 3ms/step - loss: 0.2598 - accuracy: 0.3333\n",
      "Epoch 146/200\n",
      "1/1 [==============================] - 0s 2ms/step - loss: 0.2597 - accuracy: 0.3333\n",
      "Epoch 147/200\n",
      "1/1 [==============================] - 0s 2ms/step - loss: 0.2596 - accuracy: 0.3333\n",
      "Epoch 148/200\n",
      "1/1 [==============================] - 0s 3ms/step - loss: 0.2595 - accuracy: 0.3333\n",
      "Epoch 149/200\n",
      "1/1 [==============================] - 0s 2ms/step - loss: 0.2594 - accuracy: 0.3333\n",
      "Epoch 150/200\n",
      "1/1 [==============================] - 0s 2ms/step - loss: 0.2594 - accuracy: 0.3333\n",
      "Epoch 151/200\n",
      "1/1 [==============================] - 0s 3ms/step - loss: 0.2593 - accuracy: 0.3333\n",
      "Epoch 152/200\n",
      "1/1 [==============================] - 0s 3ms/step - loss: 0.2592 - accuracy: 0.3333\n",
      "Epoch 153/200\n",
      "1/1 [==============================] - 0s 3ms/step - loss: 0.2591 - accuracy: 0.3333\n",
      "Epoch 154/200\n",
      "1/1 [==============================] - 0s 3ms/step - loss: 0.2591 - accuracy: 0.3333\n",
      "Epoch 155/200\n",
      "1/1 [==============================] - 0s 3ms/step - loss: 0.2590 - accuracy: 0.3333\n",
      "Epoch 156/200\n",
      "1/1 [==============================] - 0s 3ms/step - loss: 0.2589 - accuracy: 0.3333\n",
      "Epoch 157/200\n",
      "1/1 [==============================] - 0s 3ms/step - loss: 0.2588 - accuracy: 0.3333\n",
      "Epoch 158/200\n",
      "1/1 [==============================] - 0s 3ms/step - loss: 0.2587 - accuracy: 0.3333\n",
      "Epoch 159/200\n",
      "1/1 [==============================] - 0s 2ms/step - loss: 0.2587 - accuracy: 0.3333\n",
      "Epoch 160/200\n",
      "1/1 [==============================] - 0s 1000us/step - loss: 0.2586 - accuracy: 0.3333\n",
      "Epoch 161/200\n",
      "1/1 [==============================] - 0s 2ms/step - loss: 0.2585 - accuracy: 0.3333\n",
      "Epoch 162/200\n",
      "1/1 [==============================] - 0s 2ms/step - loss: 0.2584 - accuracy: 0.3333\n",
      "Epoch 163/200\n",
      "1/1 [==============================] - 0s 2ms/step - loss: 0.2583 - accuracy: 0.3333\n",
      "Epoch 164/200\n",
      "1/1 [==============================] - 0s 3ms/step - loss: 0.2583 - accuracy: 0.3333\n",
      "Epoch 165/200\n",
      "1/1 [==============================] - 0s 3ms/step - loss: 0.2582 - accuracy: 0.3333\n",
      "Epoch 166/200\n",
      "1/1 [==============================] - 0s 2ms/step - loss: 0.2581 - accuracy: 0.3333\n",
      "Epoch 167/200\n",
      "1/1 [==============================] - 0s 2ms/step - loss: 0.2580 - accuracy: 0.3333\n",
      "Epoch 168/200\n",
      "1/1 [==============================] - 0s 2ms/step - loss: 0.2580 - accuracy: 0.3333\n",
      "Epoch 169/200\n",
      "1/1 [==============================] - 0s 3ms/step - loss: 0.2579 - accuracy: 0.3333\n",
      "Epoch 170/200\n",
      "1/1 [==============================] - 0s 3ms/step - loss: 0.2578 - accuracy: 0.3333\n",
      "Epoch 171/200\n",
      "1/1 [==============================] - 0s 2ms/step - loss: 0.2577 - accuracy: 0.3333\n",
      "Epoch 172/200\n",
      "1/1 [==============================] - 0s 2ms/step - loss: 0.2577 - accuracy: 0.3333\n",
      "Epoch 173/200\n",
      "1/1 [==============================] - 0s 3ms/step - loss: 0.2576 - accuracy: 0.3333\n",
      "Epoch 174/200\n",
      "1/1 [==============================] - 0s 2ms/step - loss: 0.2575 - accuracy: 0.3333\n",
      "Epoch 175/200\n",
      "1/1 [==============================] - 0s 2ms/step - loss: 0.2574 - accuracy: 0.3333\n",
      "Epoch 176/200\n",
      "1/1 [==============================] - 0s 2ms/step - loss: 0.2574 - accuracy: 0.3333\n",
      "Epoch 177/200\n",
      "1/1 [==============================] - 0s 2ms/step - loss: 0.2573 - accuracy: 0.3333\n",
      "Epoch 178/200\n",
      "1/1 [==============================] - 0s 2ms/step - loss: 0.2572 - accuracy: 0.3333\n",
      "Epoch 179/200\n",
      "1/1 [==============================] - 0s 3ms/step - loss: 0.2571 - accuracy: 0.3333\n",
      "Epoch 180/200\n",
      "1/1 [==============================] - 0s 2ms/step - loss: 0.2571 - accuracy: 0.3333\n",
      "Epoch 181/200\n",
      "1/1 [==============================] - 0s 2ms/step - loss: 0.2570 - accuracy: 0.3333\n",
      "Epoch 182/200\n",
      "1/1 [==============================] - 0s 3ms/step - loss: 0.2569 - accuracy: 0.3333\n",
      "Epoch 183/200\n",
      "1/1 [==============================] - 0s 2ms/step - loss: 0.2568 - accuracy: 0.3333\n",
      "Epoch 184/200\n",
      "1/1 [==============================] - 0s 2ms/step - loss: 0.2568 - accuracy: 0.3333\n",
      "Epoch 185/200\n",
      "1/1 [==============================] - 0s 2ms/step - loss: 0.2567 - accuracy: 0.3333\n",
      "Epoch 186/200\n",
      "1/1 [==============================] - 0s 3ms/step - loss: 0.2566 - accuracy: 0.3333\n",
      "Epoch 187/200\n",
      "1/1 [==============================] - 0s 3ms/step - loss: 0.2565 - accuracy: 0.3333\n",
      "Epoch 188/200\n",
      "1/1 [==============================] - 0s 3ms/step - loss: 0.2565 - accuracy: 0.3333\n",
      "Epoch 189/200\n",
      "1/1 [==============================] - 0s 3ms/step - loss: 0.2564 - accuracy: 0.3333\n",
      "Epoch 190/200\n",
      "1/1 [==============================] - 0s 3ms/step - loss: 0.2563 - accuracy: 0.3333\n",
      "Epoch 191/200\n",
      "1/1 [==============================] - 0s 3ms/step - loss: 0.2562 - accuracy: 0.3333\n",
      "Epoch 192/200\n",
      "1/1 [==============================] - 0s 3ms/step - loss: 0.2562 - accuracy: 0.3333\n",
      "Epoch 193/200\n",
      "1/1 [==============================] - 0s 3ms/step - loss: 0.2561 - accuracy: 0.3333\n",
      "Epoch 194/200\n",
      "1/1 [==============================] - 0s 3ms/step - loss: 0.2560 - accuracy: 0.3333\n",
      "Epoch 195/200\n",
      "1/1 [==============================] - 0s 2ms/step - loss: 0.2559 - accuracy: 0.3333\n",
      "Epoch 196/200\n",
      "1/1 [==============================] - 0s 3ms/step - loss: 0.2559 - accuracy: 0.3333\n",
      "Epoch 197/200\n",
      "1/1 [==============================] - 0s 3ms/step - loss: 0.2558 - accuracy: 0.3333\n",
      "Epoch 198/200\n",
      "1/1 [==============================] - 0s 2ms/step - loss: 0.2557 - accuracy: 0.3333\n",
      "Epoch 199/200\n",
      "1/1 [==============================] - 0s 3ms/step - loss: 0.2557 - accuracy: 0.3333\n",
      "Epoch 200/200\n",
      "1/1 [==============================] - 0s 3ms/step - loss: 0.2556 - accuracy: 0.3333\n"
     ]
    },
    {
     "data": {
      "text/plain": "<keras.callbacks.History at 0x27ddcea88b0>"
     },
     "execution_count": 75,
     "metadata": {},
     "output_type": "execute_result"
    }
   ],
   "source": [
    "model.fit(x_train, y_train, epochs=200, batch_size=6)"
   ]
  },
  {
   "cell_type": "markdown",
   "metadata": {},
   "source": [
    "The results are not necessarly better, how does the prediction look now?"
   ]
  },
  {
   "cell_type": "code",
   "execution_count": 76,
   "metadata": {},
   "outputs": [
    {
     "name": "stdout",
     "output_type": "stream",
     "text": [
      "WARNING:tensorflow:5 out of the last 13 calls to <function Model.make_predict_function.<locals>.predict_function at 0x0000027DDCEDD040> triggered tf.function retracing. Tracing is expensive and the excessive number of tracings could be due to (1) creating @tf.function repeatedly in a loop, (2) passing tensors with different shapes, (3) passing Python objects instead of tensors. For (1), please define your @tf.function outside of the loop. For (2), @tf.function has reduce_retracing=True option that can avoid unnecessary retracing. For (3), please refer to https://www.tensorflow.org/guide/function#controlling_retracing and https://www.tensorflow.org/api_docs/python/tf/function for  more details.\n",
      "1/1 [==============================] - 0s 44ms/step\n"
     ]
    },
    {
     "data": {
      "text/plain": "array([[0.49708238],\n       [0.49708238],\n       [0.49708238],\n       [0.49708238],\n       [0.49708238],\n       [0.5292833 ]], dtype=float32)"
     },
     "execution_count": 76,
     "metadata": {},
     "output_type": "execute_result"
    }
   ],
   "source": [
    "model.predict(x_train)"
   ]
  },
  {
   "cell_type": "code",
   "execution_count": 77,
   "metadata": {},
   "outputs": [
    {
     "name": "stdout",
     "output_type": "stream",
     "text": [
      "<keras.layers.core.dense.Dense object at 0x0000027DDCEA8A00>\n",
      "[array([[ 0.6028108, -0.965752 ],\n",
      "       [-1.191112 , -0.1566987]], dtype=float32), array([-0.12573428,  0.        ], dtype=float32)]\n",
      "<keras.layers.core.dense.Dense object at 0x0000027DDCEA82B0>\n",
      "[array([[ 0.09312582,  0.5909856 ],\n",
      "       [ 0.77801263, -0.3098777 ]], dtype=float32), array([-0.05180462, -0.18868946], dtype=float32)]\n",
      "<keras.layers.core.dense.Dense object at 0x0000027DDC1B4AC0>\n",
      "[array([[0.7886322],\n",
      "       [1.3826257]], dtype=float32), array([-0.01167064], dtype=float32)]\n"
     ]
    }
   ],
   "source": [
    "for layer in model.layers:\n",
    "    weights = layer.get_weights()\n",
    "    print(layer)\n",
    "    print(weights)"
   ]
  },
  {
   "cell_type": "markdown",
   "metadata": {},
   "source": [
    "The larger network, does not seem to work better as the simpler one. Or is it maybe not large enough?\n",
    "\n",
    "The problem is not the network, but the data, we just do not have enough data. So lets try to make up some more data artificially.\n"
   ]
  },
  {
   "cell_type": "code",
   "execution_count": 78,
   "metadata": {},
   "outputs": [],
   "source": [
    "x_new = np.random.random(size=(10000, 2))\n",
    "y_new = np.zeros(10000, dtype=np.float32)\n",
    "condition = (x_new[:, 1] > x_new[:, 0])\n",
    "y_new[condition] = 1.0"
   ]
  },
  {
   "cell_type": "code",
   "execution_count": 79,
   "metadata": {},
   "outputs": [
    {
     "name": "stdout",
     "output_type": "stream",
     "text": [
      "Epoch 1/100\n",
      "100/100 [==============================] - 0s 976us/step - loss: 0.2501 - accuracy: 0.4961\n",
      "Epoch 2/100\n",
      "100/100 [==============================] - 0s 861us/step - loss: 0.2501 - accuracy: 0.4996\n",
      "Epoch 3/100\n",
      "100/100 [==============================] - 0s 819us/step - loss: 0.2500 - accuracy: 0.5013\n",
      "Epoch 4/100\n",
      "100/100 [==============================] - 0s 823us/step - loss: 0.2500 - accuracy: 0.5023\n",
      "Epoch 5/100\n",
      "100/100 [==============================] - 0s 844us/step - loss: 0.2500 - accuracy: 0.5033\n",
      "Epoch 6/100\n",
      "100/100 [==============================] - 0s 798us/step - loss: 0.2500 - accuracy: 0.5045\n",
      "Epoch 7/100\n",
      "100/100 [==============================] - 0s 801us/step - loss: 0.2500 - accuracy: 0.5049\n",
      "Epoch 8/100\n",
      "100/100 [==============================] - 0s 759us/step - loss: 0.2500 - accuracy: 0.5056\n",
      "Epoch 9/100\n",
      "100/100 [==============================] - 0s 804us/step - loss: 0.2500 - accuracy: 0.5062\n",
      "Epoch 10/100\n",
      "100/100 [==============================] - 0s 763us/step - loss: 0.2500 - accuracy: 0.5067\n",
      "Epoch 11/100\n",
      "100/100 [==============================] - 0s 788us/step - loss: 0.2500 - accuracy: 0.5073\n",
      "Epoch 12/100\n",
      "100/100 [==============================] - 0s 752us/step - loss: 0.2500 - accuracy: 0.5074\n",
      "Epoch 13/100\n",
      "100/100 [==============================] - 0s 753us/step - loss: 0.2500 - accuracy: 0.5076\n",
      "Epoch 14/100\n",
      "100/100 [==============================] - 0s 774us/step - loss: 0.2499 - accuracy: 0.5077\n",
      "Epoch 15/100\n",
      "100/100 [==============================] - 0s 883us/step - loss: 0.2499 - accuracy: 0.5077\n",
      "Epoch 16/100\n",
      "100/100 [==============================] - 0s 809us/step - loss: 0.2499 - accuracy: 0.5077\n",
      "Epoch 17/100\n",
      "100/100 [==============================] - 0s 758us/step - loss: 0.2499 - accuracy: 0.5079\n",
      "Epoch 18/100\n",
      "100/100 [==============================] - 0s 733us/step - loss: 0.2499 - accuracy: 0.5078\n",
      "Epoch 19/100\n",
      "100/100 [==============================] - 0s 773us/step - loss: 0.2499 - accuracy: 0.5079\n",
      "Epoch 20/100\n",
      "100/100 [==============================] - 0s 788us/step - loss: 0.2499 - accuracy: 0.5079\n",
      "Epoch 21/100\n",
      "100/100 [==============================] - 0s 778us/step - loss: 0.2499 - accuracy: 0.5079\n",
      "Epoch 22/100\n",
      "100/100 [==============================] - 0s 788us/step - loss: 0.2499 - accuracy: 0.5079\n",
      "Epoch 23/100\n",
      "100/100 [==============================] - 0s 914us/step - loss: 0.2499 - accuracy: 0.5079\n",
      "Epoch 24/100\n",
      "100/100 [==============================] - 0s 942us/step - loss: 0.2499 - accuracy: 0.5079\n",
      "Epoch 25/100\n",
      "100/100 [==============================] - 0s 960us/step - loss: 0.2499 - accuracy: 0.5079\n",
      "Epoch 26/100\n",
      "100/100 [==============================] - 0s 890us/step - loss: 0.2499 - accuracy: 0.5079\n",
      "Epoch 27/100\n",
      "100/100 [==============================] - 0s 864us/step - loss: 0.2499 - accuracy: 0.5079\n",
      "Epoch 28/100\n",
      "100/100 [==============================] - 0s 753us/step - loss: 0.2499 - accuracy: 0.5079\n",
      "Epoch 29/100\n",
      "100/100 [==============================] - 0s 834us/step - loss: 0.2499 - accuracy: 0.5079\n",
      "Epoch 30/100\n",
      "100/100 [==============================] - 0s 788us/step - loss: 0.2499 - accuracy: 0.5079\n",
      "Epoch 31/100\n",
      "100/100 [==============================] - 0s 753us/step - loss: 0.2499 - accuracy: 0.5079\n",
      "Epoch 32/100\n",
      "100/100 [==============================] - 0s 750us/step - loss: 0.2499 - accuracy: 0.5079\n",
      "Epoch 33/100\n",
      "100/100 [==============================] - 0s 753us/step - loss: 0.2499 - accuracy: 0.5079\n",
      "Epoch 34/100\n",
      "100/100 [==============================] - 0s 743us/step - loss: 0.2499 - accuracy: 0.5079\n",
      "Epoch 35/100\n",
      "100/100 [==============================] - 0s 778us/step - loss: 0.2499 - accuracy: 0.5079\n",
      "Epoch 36/100\n",
      "100/100 [==============================] - 0s 773us/step - loss: 0.2499 - accuracy: 0.5079\n",
      "Epoch 37/100\n",
      "100/100 [==============================] - 0s 773us/step - loss: 0.2499 - accuracy: 0.5079\n",
      "Epoch 38/100\n",
      "100/100 [==============================] - 0s 792us/step - loss: 0.2499 - accuracy: 0.5079\n",
      "Epoch 39/100\n",
      "100/100 [==============================] - 0s 727us/step - loss: 0.2499 - accuracy: 0.5079\n",
      "Epoch 40/100\n",
      "100/100 [==============================] - 0s 768us/step - loss: 0.2499 - accuracy: 0.5079\n",
      "Epoch 41/100\n",
      "100/100 [==============================] - 0s 758us/step - loss: 0.2499 - accuracy: 0.5079\n",
      "Epoch 42/100\n",
      "100/100 [==============================] - 0s 763us/step - loss: 0.2499 - accuracy: 0.5079\n",
      "Epoch 43/100\n",
      "100/100 [==============================] - 0s 763us/step - loss: 0.2499 - accuracy: 0.5079\n",
      "Epoch 44/100\n",
      "100/100 [==============================] - 0s 758us/step - loss: 0.2499 - accuracy: 0.5079\n",
      "Epoch 45/100\n",
      "100/100 [==============================] - 0s 732us/step - loss: 0.2499 - accuracy: 0.5079\n",
      "Epoch 46/100\n",
      "100/100 [==============================] - 0s 732us/step - loss: 0.2499 - accuracy: 0.5079\n",
      "Epoch 47/100\n",
      "100/100 [==============================] - 0s 738us/step - loss: 0.2499 - accuracy: 0.5079\n",
      "Epoch 48/100\n",
      "100/100 [==============================] - 0s 768us/step - loss: 0.2499 - accuracy: 0.5079\n",
      "Epoch 49/100\n",
      "100/100 [==============================] - 0s 748us/step - loss: 0.2499 - accuracy: 0.5079\n",
      "Epoch 50/100\n",
      "100/100 [==============================] - 0s 748us/step - loss: 0.2499 - accuracy: 0.5079\n",
      "Epoch 51/100\n",
      "100/100 [==============================] - 0s 751us/step - loss: 0.2499 - accuracy: 0.5079\n",
      "Epoch 52/100\n",
      "100/100 [==============================] - 0s 844us/step - loss: 0.2499 - accuracy: 0.5079\n",
      "Epoch 53/100\n",
      "100/100 [==============================] - 0s 823us/step - loss: 0.2499 - accuracy: 0.5079\n",
      "Epoch 54/100\n",
      "100/100 [==============================] - 0s 828us/step - loss: 0.2499 - accuracy: 0.5079\n",
      "Epoch 55/100\n",
      "100/100 [==============================] - 0s 803us/step - loss: 0.2499 - accuracy: 0.5079\n",
      "Epoch 56/100\n",
      "100/100 [==============================] - 0s 753us/step - loss: 0.2499 - accuracy: 0.5079\n",
      "Epoch 57/100\n",
      "100/100 [==============================] - 0s 768us/step - loss: 0.2499 - accuracy: 0.5079\n",
      "Epoch 58/100\n",
      "100/100 [==============================] - 0s 737us/step - loss: 0.2499 - accuracy: 0.5079\n",
      "Epoch 59/100\n",
      "100/100 [==============================] - 0s 740us/step - loss: 0.2499 - accuracy: 0.5079\n",
      "Epoch 60/100\n",
      "100/100 [==============================] - 0s 788us/step - loss: 0.2499 - accuracy: 0.5079\n",
      "Epoch 61/100\n",
      "100/100 [==============================] - 0s 724us/step - loss: 0.2499 - accuracy: 0.5079\n",
      "Epoch 62/100\n",
      "100/100 [==============================] - 0s 837us/step - loss: 0.2499 - accuracy: 0.5079\n",
      "Epoch 63/100\n",
      "100/100 [==============================] - 0s 758us/step - loss: 0.2499 - accuracy: 0.5079\n",
      "Epoch 64/100\n",
      "100/100 [==============================] - 0s 773us/step - loss: 0.2499 - accuracy: 0.5079\n",
      "Epoch 65/100\n",
      "100/100 [==============================] - 0s 762us/step - loss: 0.2499 - accuracy: 0.5079\n",
      "Epoch 66/100\n",
      "100/100 [==============================] - 0s 975us/step - loss: 0.2499 - accuracy: 0.5079\n",
      "Epoch 67/100\n",
      "100/100 [==============================] - 0s 990us/step - loss: 0.2499 - accuracy: 0.5079\n",
      "Epoch 68/100\n",
      "100/100 [==============================] - 0s 920us/step - loss: 0.2499 - accuracy: 0.5079\n",
      "Epoch 69/100\n",
      "100/100 [==============================] - 0s 910us/step - loss: 0.2499 - accuracy: 0.5079\n",
      "Epoch 70/100\n",
      "100/100 [==============================] - 0s 904us/step - loss: 0.2499 - accuracy: 0.5079\n",
      "Epoch 71/100\n",
      "100/100 [==============================] - 0s 975us/step - loss: 0.2499 - accuracy: 0.5079\n",
      "Epoch 72/100\n",
      "100/100 [==============================] - 0s 879us/step - loss: 0.2499 - accuracy: 0.5079\n",
      "Epoch 73/100\n",
      "100/100 [==============================] - 0s 854us/step - loss: 0.2499 - accuracy: 0.5079\n",
      "Epoch 74/100\n",
      "100/100 [==============================] - 0s 808us/step - loss: 0.2499 - accuracy: 0.5079\n",
      "Epoch 75/100\n",
      "100/100 [==============================] - 0s 793us/step - loss: 0.2499 - accuracy: 0.5079\n",
      "Epoch 76/100\n",
      "100/100 [==============================] - 0s 788us/step - loss: 0.2499 - accuracy: 0.5079\n",
      "Epoch 77/100\n",
      "100/100 [==============================] - 0s 783us/step - loss: 0.2499 - accuracy: 0.5079\n",
      "Epoch 78/100\n",
      "100/100 [==============================] - 0s 813us/step - loss: 0.2499 - accuracy: 0.5079\n",
      "Epoch 79/100\n",
      "100/100 [==============================] - 0s 849us/step - loss: 0.2499 - accuracy: 0.5079\n",
      "Epoch 80/100\n",
      "100/100 [==============================] - 0s 859us/step - loss: 0.2499 - accuracy: 0.5079\n",
      "Epoch 81/100\n",
      "100/100 [==============================] - 0s 813us/step - loss: 0.2499 - accuracy: 0.5079\n",
      "Epoch 82/100\n",
      "100/100 [==============================] - 0s 783us/step - loss: 0.2499 - accuracy: 0.5079\n",
      "Epoch 83/100\n",
      "100/100 [==============================] - 0s 758us/step - loss: 0.2499 - accuracy: 0.5079\n",
      "Epoch 84/100\n",
      "100/100 [==============================] - 0s 748us/step - loss: 0.2499 - accuracy: 0.5079\n",
      "Epoch 85/100\n",
      "100/100 [==============================] - 0s 737us/step - loss: 0.2499 - accuracy: 0.5079\n",
      "Epoch 86/100\n",
      "100/100 [==============================] - 0s 799us/step - loss: 0.2499 - accuracy: 0.5079\n",
      "Epoch 87/100\n",
      "100/100 [==============================] - 0s 753us/step - loss: 0.2499 - accuracy: 0.5079\n",
      "Epoch 88/100\n",
      "100/100 [==============================] - 0s 753us/step - loss: 0.2499 - accuracy: 0.5079\n",
      "Epoch 89/100\n",
      "100/100 [==============================] - 0s 743us/step - loss: 0.2499 - accuracy: 0.5079\n",
      "Epoch 90/100\n",
      "100/100 [==============================] - 0s 758us/step - loss: 0.2499 - accuracy: 0.5079\n",
      "Epoch 91/100\n",
      "100/100 [==============================] - 0s 763us/step - loss: 0.2499 - accuracy: 0.5079\n",
      "Epoch 92/100\n",
      "100/100 [==============================] - 0s 758us/step - loss: 0.2499 - accuracy: 0.5079\n",
      "Epoch 93/100\n",
      "100/100 [==============================] - 0s 823us/step - loss: 0.2499 - accuracy: 0.5079\n",
      "Epoch 94/100\n",
      "100/100 [==============================] - 0s 763us/step - loss: 0.2499 - accuracy: 0.5079\n",
      "Epoch 95/100\n",
      "100/100 [==============================] - 0s 747us/step - loss: 0.2499 - accuracy: 0.5079\n",
      "Epoch 96/100\n",
      "100/100 [==============================] - 0s 770us/step - loss: 0.2499 - accuracy: 0.5079\n",
      "Epoch 97/100\n",
      "100/100 [==============================] - 0s 768us/step - loss: 0.2499 - accuracy: 0.5079\n",
      "Epoch 98/100\n",
      "100/100 [==============================] - 0s 788us/step - loss: 0.2499 - accuracy: 0.5079\n",
      "Epoch 99/100\n",
      "100/100 [==============================] - 0s 768us/step - loss: 0.2499 - accuracy: 0.5079\n",
      "Epoch 100/100\n",
      "100/100 [==============================] - 0s 768us/step - loss: 0.2499 - accuracy: 0.5079\n"
     ]
    },
    {
     "data": {
      "text/plain": "<keras.callbacks.History at 0x27ddcf5a040>"
     },
     "execution_count": 79,
     "metadata": {},
     "output_type": "execute_result"
    }
   ],
   "source": [
    "model.fit(x_new, y_new, epochs=100, batch_size=100)"
   ]
  },
  {
   "cell_type": "markdown",
   "metadata": {},
   "source": [
    "That seems better. Lets look how it performs on our original data."
   ]
  },
  {
   "cell_type": "code",
   "execution_count": 80,
   "metadata": {},
   "outputs": [
    {
     "name": "stdout",
     "output_type": "stream",
     "text": [
      "1/1 [==============================] - 0s 18ms/step\n"
     ]
    },
    {
     "data": {
      "text/plain": "array([[0.49201426],\n       [0.49201426],\n       [0.49201426],\n       [0.49201426],\n       [0.49201426],\n       [0.49572238]], dtype=float32)"
     },
     "execution_count": 80,
     "metadata": {},
     "output_type": "execute_result"
    }
   ],
   "source": [
    "model.predict(x_train)"
   ]
  },
  {
   "cell_type": "markdown",
   "metadata": {},
   "source": [
    "### Evaluation\n",
    "\n",
    "We might want to check how the network performs on any data. For this, keras provides the evaluate function that will \n",
    "evaluate the loss and the metrics. So of course label (y) data is needed for that. "
   ]
  },
  {
   "cell_type": "code",
   "execution_count": 81,
   "metadata": {},
   "outputs": [
    {
     "name": "stdout",
     "output_type": "stream",
     "text": [
      "313/313 [==============================] - 0s 667us/step - loss: 0.2499 - accuracy: 0.5079\n"
     ]
    },
    {
     "data": {
      "text/plain": "[0.24993766844272614, 0.5078999996185303]"
     },
     "execution_count": 81,
     "metadata": {},
     "output_type": "execute_result"
    }
   ],
   "source": [
    "model.evaluate(x_new, y_new)"
   ]
  },
  {
   "cell_type": "markdown",
   "metadata": {},
   "source": [
    "Of course, we would normally do that on validation or test data not used during training."
   ]
  },
  {
   "cell_type": "code",
   "execution_count": 82,
   "metadata": {},
   "outputs": [
    {
     "name": "stdout",
     "output_type": "stream",
     "text": [
      "157/157 [==============================] - 0s 751us/step - loss: 0.2501 - accuracy: 0.4996\n"
     ]
    },
    {
     "data": {
      "text/plain": "[0.250071257352829, 0.49959999322891235]"
     },
     "execution_count": 82,
     "metadata": {},
     "output_type": "execute_result"
    }
   ],
   "source": [
    "x_val_new = np.random.random(size=(5000, 2))\n",
    "y_val_new = np.zeros(5000, dtype=np.float32)\n",
    "y_val_new[x_val_new[:, 1] > x_val_new[:, 0]] = 1.0\n",
    "model.evaluate(x_val_new, y_val_new)"
   ]
  },
  {
   "cell_type": "markdown",
   "metadata": {},
   "source": [
    "### Visualisation\n",
    "\n",
    "It is essential to visualise the training process to see what is going on. In Keras, an easy method to do this is to use the history object that is returned from fit. It contains the metrics and the loss.\n",
    "\n",
    "We will also split our data into training and validation for this test. We rebuild the model, so that it is initialized again. Otherwise we would just continue with the weights from the previous fit."
   ]
  },
  {
   "cell_type": "code",
   "execution_count": 90,
   "metadata": {},
   "outputs": [
    {
     "name": "stdout",
     "output_type": "stream",
     "text": [
      "Epoch 1/50\n",
      "75/75 [==============================] - 0s 2ms/step - loss: 0.2497 - accuracy: 0.5075 - val_loss: 0.2497 - val_accuracy: 0.5088\n",
      "Epoch 2/50\n",
      "75/75 [==============================] - 0s 1ms/step - loss: 0.2497 - accuracy: 0.5076 - val_loss: 0.2497 - val_accuracy: 0.5088\n",
      "Epoch 3/50\n",
      "75/75 [==============================] - 0s 1ms/step - loss: 0.2497 - accuracy: 0.5076 - val_loss: 0.2497 - val_accuracy: 0.5088\n",
      "Epoch 4/50\n",
      "75/75 [==============================] - 0s 1ms/step - loss: 0.2496 - accuracy: 0.5076 - val_loss: 0.2496 - val_accuracy: 0.5088\n",
      "Epoch 5/50\n",
      "75/75 [==============================] - 0s 1ms/step - loss: 0.2496 - accuracy: 0.5076 - val_loss: 0.2496 - val_accuracy: 0.5088\n",
      "Epoch 6/50\n",
      "75/75 [==============================] - 0s 1ms/step - loss: 0.2496 - accuracy: 0.5076 - val_loss: 0.2496 - val_accuracy: 0.5088\n",
      "Epoch 7/50\n",
      "75/75 [==============================] - 0s 1ms/step - loss: 0.2495 - accuracy: 0.5076 - val_loss: 0.2495 - val_accuracy: 0.5088\n",
      "Epoch 8/50\n",
      "75/75 [==============================] - 0s 1ms/step - loss: 0.2495 - accuracy: 0.5076 - val_loss: 0.2495 - val_accuracy: 0.5088\n",
      "Epoch 9/50\n",
      "75/75 [==============================] - 0s 1ms/step - loss: 0.2494 - accuracy: 0.5076 - val_loss: 0.2494 - val_accuracy: 0.5088\n",
      "Epoch 10/50\n",
      "75/75 [==============================] - 0s 1ms/step - loss: 0.2493 - accuracy: 0.5076 - val_loss: 0.2493 - val_accuracy: 0.5088\n",
      "Epoch 11/50\n",
      "75/75 [==============================] - 0s 1ms/step - loss: 0.2493 - accuracy: 0.5076 - val_loss: 0.2493 - val_accuracy: 0.5088\n",
      "Epoch 12/50\n",
      "75/75 [==============================] - 0s 1ms/step - loss: 0.2492 - accuracy: 0.5076 - val_loss: 0.2492 - val_accuracy: 0.5088\n",
      "Epoch 13/50\n",
      "75/75 [==============================] - 0s 1ms/step - loss: 0.2491 - accuracy: 0.5076 - val_loss: 0.2491 - val_accuracy: 0.5088\n",
      "Epoch 14/50\n",
      "75/75 [==============================] - 0s 1ms/step - loss: 0.2490 - accuracy: 0.5076 - val_loss: 0.2490 - val_accuracy: 0.5088\n",
      "Epoch 15/50\n",
      "75/75 [==============================] - 0s 1ms/step - loss: 0.2489 - accuracy: 0.5076 - val_loss: 0.2489 - val_accuracy: 0.5088\n",
      "Epoch 16/50\n",
      "75/75 [==============================] - 0s 1ms/step - loss: 0.2487 - accuracy: 0.5076 - val_loss: 0.2487 - val_accuracy: 0.5088\n",
      "Epoch 17/50\n",
      "75/75 [==============================] - 0s 1ms/step - loss: 0.2486 - accuracy: 0.5076 - val_loss: 0.2486 - val_accuracy: 0.5088\n",
      "Epoch 18/50\n",
      "75/75 [==============================] - 0s 1ms/step - loss: 0.2484 - accuracy: 0.5076 - val_loss: 0.2484 - val_accuracy: 0.5088\n",
      "Epoch 19/50\n",
      "75/75 [==============================] - 0s 1ms/step - loss: 0.2482 - accuracy: 0.5076 - val_loss: 0.2482 - val_accuracy: 0.5088\n",
      "Epoch 20/50\n",
      "75/75 [==============================] - 0s 1ms/step - loss: 0.2479 - accuracy: 0.5076 - val_loss: 0.2479 - val_accuracy: 0.5088\n",
      "Epoch 21/50\n",
      "75/75 [==============================] - 0s 1ms/step - loss: 0.2476 - accuracy: 0.5076 - val_loss: 0.2476 - val_accuracy: 0.5088\n",
      "Epoch 22/50\n",
      "75/75 [==============================] - 0s 1ms/step - loss: 0.2473 - accuracy: 0.5076 - val_loss: 0.2473 - val_accuracy: 0.5088\n",
      "Epoch 23/50\n",
      "75/75 [==============================] - 0s 1ms/step - loss: 0.2469 - accuracy: 0.5076 - val_loss: 0.2469 - val_accuracy: 0.5088\n",
      "Epoch 24/50\n",
      "75/75 [==============================] - 0s 1ms/step - loss: 0.2464 - accuracy: 0.5076 - val_loss: 0.2464 - val_accuracy: 0.5088\n",
      "Epoch 25/50\n",
      "75/75 [==============================] - 0s 1ms/step - loss: 0.2459 - accuracy: 0.5076 - val_loss: 0.2458 - val_accuracy: 0.5088\n",
      "Epoch 26/50\n",
      "75/75 [==============================] - 0s 1ms/step - loss: 0.2452 - accuracy: 0.5076 - val_loss: 0.2452 - val_accuracy: 0.5088\n",
      "Epoch 27/50\n",
      "75/75 [==============================] - 0s 1ms/step - loss: 0.2444 - accuracy: 0.5076 - val_loss: 0.2444 - val_accuracy: 0.5088\n",
      "Epoch 28/50\n",
      "75/75 [==============================] - 0s 1ms/step - loss: 0.2435 - accuracy: 0.5076 - val_loss: 0.2434 - val_accuracy: 0.5088\n",
      "Epoch 29/50\n",
      "75/75 [==============================] - 0s 1ms/step - loss: 0.2424 - accuracy: 0.5076 - val_loss: 0.2422 - val_accuracy: 0.5088\n",
      "Epoch 30/50\n",
      "75/75 [==============================] - 0s 1ms/step - loss: 0.2410 - accuracy: 0.5076 - val_loss: 0.2408 - val_accuracy: 0.5088\n",
      "Epoch 31/50\n",
      "75/75 [==============================] - 0s 1ms/step - loss: 0.2394 - accuracy: 0.5076 - val_loss: 0.2391 - val_accuracy: 0.5088\n",
      "Epoch 32/50\n",
      "75/75 [==============================] - 0s 1ms/step - loss: 0.2375 - accuracy: 0.5076 - val_loss: 0.2371 - val_accuracy: 0.5088\n",
      "Epoch 33/50\n",
      "75/75 [==============================] - 0s 1ms/step - loss: 0.2353 - accuracy: 0.5595 - val_loss: 0.2349 - val_accuracy: 0.8336\n",
      "Epoch 34/50\n",
      "75/75 [==============================] - 0s 1ms/step - loss: 0.2329 - accuracy: 0.8249 - val_loss: 0.2324 - val_accuracy: 0.8192\n",
      "Epoch 35/50\n",
      "75/75 [==============================] - 0s 1ms/step - loss: 0.2303 - accuracy: 0.8116 - val_loss: 0.2298 - val_accuracy: 0.8040\n",
      "Epoch 36/50\n",
      "75/75 [==============================] - 0s 1ms/step - loss: 0.2277 - accuracy: 0.7955 - val_loss: 0.2272 - val_accuracy: 0.7864\n",
      "Epoch 37/50\n",
      "75/75 [==============================] - 0s 1ms/step - loss: 0.2251 - accuracy: 0.7728 - val_loss: 0.2247 - val_accuracy: 0.7756\n",
      "Epoch 38/50\n",
      "75/75 [==============================] - 0s 1ms/step - loss: 0.2225 - accuracy: 0.7652 - val_loss: 0.2221 - val_accuracy: 0.7644\n",
      "Epoch 39/50\n",
      "75/75 [==============================] - 0s 1ms/step - loss: 0.2198 - accuracy: 0.7601 - val_loss: 0.2194 - val_accuracy: 0.7568\n",
      "Epoch 40/50\n",
      "75/75 [==============================] - 0s 1ms/step - loss: 0.2171 - accuracy: 0.7572 - val_loss: 0.2166 - val_accuracy: 0.7560\n",
      "Epoch 41/50\n",
      "75/75 [==============================] - 0s 1ms/step - loss: 0.2142 - accuracy: 0.7584 - val_loss: 0.2138 - val_accuracy: 0.7600\n",
      "Epoch 42/50\n",
      "75/75 [==============================] - 0s 1ms/step - loss: 0.2112 - accuracy: 0.7623 - val_loss: 0.2107 - val_accuracy: 0.7628\n",
      "Epoch 43/50\n",
      "75/75 [==============================] - 0s 1ms/step - loss: 0.2080 - accuracy: 0.7669 - val_loss: 0.2076 - val_accuracy: 0.7680\n",
      "Epoch 44/50\n",
      "75/75 [==============================] - 0s 1ms/step - loss: 0.2047 - accuracy: 0.7751 - val_loss: 0.2043 - val_accuracy: 0.7756\n",
      "Epoch 45/50\n",
      "75/75 [==============================] - 0s 1ms/step - loss: 0.2013 - accuracy: 0.7781 - val_loss: 0.2009 - val_accuracy: 0.7832\n",
      "Epoch 46/50\n",
      "75/75 [==============================] - 0s 1ms/step - loss: 0.1978 - accuracy: 0.7864 - val_loss: 0.1974 - val_accuracy: 0.7924\n",
      "Epoch 47/50\n",
      "75/75 [==============================] - 0s 1ms/step - loss: 0.1941 - accuracy: 0.7931 - val_loss: 0.1938 - val_accuracy: 0.8008\n",
      "Epoch 48/50\n",
      "75/75 [==============================] - 0s 1ms/step - loss: 0.1904 - accuracy: 0.8012 - val_loss: 0.1900 - val_accuracy: 0.8128\n",
      "Epoch 49/50\n",
      "75/75 [==============================] - 0s 1ms/step - loss: 0.1865 - accuracy: 0.8167 - val_loss: 0.1862 - val_accuracy: 0.8224\n",
      "Epoch 50/50\n",
      "75/75 [==============================] - 0s 1ms/step - loss: 0.1826 - accuracy: 0.8223 - val_loss: 0.1823 - val_accuracy: 0.8320\n"
     ]
    }
   ],
   "source": [
    "model = keras.Sequential()\n",
    "model.add(keras.layers.Dense(2, activation='relu', input_shape=[2]))\n",
    "model.add(keras.layers.Dense(2, activation='relu'))\n",
    "model.add(keras.layers.Dense(1, activation='sigmoid'))\n",
    "model.compile(loss='mse',\n",
    "              optimizer='sgd',\n",
    "              metrics=['accuracy'])\n",
    "history = model.fit(x_new, y_new, validation_split=0.25, epochs=50, batch_size=100)"
   ]
  },
  {
   "cell_type": "code",
   "execution_count": 84,
   "metadata": {},
   "outputs": [
    {
     "name": "stdout",
     "output_type": "stream",
     "text": [
      "dict_keys(['loss', 'accuracy', 'val_loss', 'val_accuracy'])\n"
     ]
    }
   ],
   "source": [
    "print(history.history.keys())"
   ]
  },
  {
   "cell_type": "code",
   "execution_count": 85,
   "metadata": {
    "scrolled": true
   },
   "outputs": [
    {
     "data": {
      "text/plain": "<matplotlib.legend.Legend at 0x27ddcfaafd0>"
     },
     "execution_count": 85,
     "metadata": {},
     "output_type": "execute_result"
    },
    {
     "data": {
      "text/plain": "<Figure size 640x480 with 1 Axes>",
      "image/png": "[encoded data removed]"
     },
     "metadata": {},
     "output_type": "display_data"
    }
   ],
   "source": [
    "import matplotlib.pyplot as plt\n",
    "\n",
    "plt.plot(history.history['loss'])\n",
    "plt.plot(history.history['val_loss'])\n",
    "plt.title('Loss')\n",
    "plt.xlabel('epoch')\n",
    "plt.ylabel('loss')\n",
    "plt.legend(['Train', 'Val'], loc='upper left')"
   ]
  },
  {
   "cell_type": "code",
   "execution_count": 86,
   "metadata": {},
   "outputs": [
    {
     "data": {
      "text/plain": "<matplotlib.legend.Legend at 0x27dde127a00>"
     },
     "execution_count": 86,
     "metadata": {},
     "output_type": "execute_result"
    },
    {
     "data": {
      "text/plain": "<Figure size 640x480 with 1 Axes>",
      "image/png": "[encoded data removed]"
     },
     "metadata": {},
     "output_type": "display_data"
    }
   ],
   "source": [
    "plt.plot(history.history['accuracy'])\n",
    "plt.plot(history.history['val_accuracy'])\n",
    "plt.title('Accuracy')\n",
    "plt.xlabel('epoch')\n",
    "plt.ylabel('acc')\n",
    "plt.legend(['Train', 'Val'], loc='upper left')"
   ]
  },
  {
   "cell_type": "markdown",
   "metadata": {},
   "source": [
    "## Exercise: Correct loss function\n",
    "\n",
    "The loss function used above (mse) is not optimal. A better loss function would be the crossentropy. Change the network to use that loss function."
   ]
  },
  {
   "cell_type": "code",
   "execution_count": 1,
   "metadata": {},
   "outputs": [
    {
     "ename": "NameError",
     "evalue": "name 'keras' is not defined",
     "output_type": "error",
     "traceback": [
      "\u001B[1;31m---------------------------------------------------------------------------\u001B[0m",
      "\u001B[1;31mNameError\u001B[0m                                 Traceback (most recent call last)",
      "Cell \u001B[1;32mIn [1], line 1\u001B[0m\n\u001B[1;32m----> 1\u001B[0m model \u001B[38;5;241m=\u001B[39m \u001B[43mkeras\u001B[49m\u001B[38;5;241m.\u001B[39mSequential()\n\u001B[0;32m      2\u001B[0m model\u001B[38;5;241m.\u001B[39madd(keras\u001B[38;5;241m.\u001B[39mlayers\u001B[38;5;241m.\u001B[39mDense(\u001B[38;5;241m2\u001B[39m, activation\u001B[38;5;241m=\u001B[39m\u001B[38;5;124m'\u001B[39m\u001B[38;5;124mrelu\u001B[39m\u001B[38;5;124m'\u001B[39m, input_shape\u001B[38;5;241m=\u001B[39m[\u001B[38;5;241m2\u001B[39m]))\n\u001B[0;32m      3\u001B[0m model\u001B[38;5;241m.\u001B[39madd(keras\u001B[38;5;241m.\u001B[39mlayers\u001B[38;5;241m.\u001B[39mDense(\u001B[38;5;241m2\u001B[39m, activation\u001B[38;5;241m=\u001B[39m\u001B[38;5;124m'\u001B[39m\u001B[38;5;124mrelu\u001B[39m\u001B[38;5;124m'\u001B[39m))\n",
      "\u001B[1;31mNameError\u001B[0m: name 'keras' is not defined"
     ]
    }
   ],
   "source": [
    "model = keras.Sequential()\n",
    "model.add(keras.layers.Dense(2, activation='relu', input_shape=[2]))\n",
    "model.add(keras.layers.Dense(2, activation='relu'))\n",
    "model.add(keras.layers.Dense(1, activation='sigmoid'))\n",
    "model.compile(loss='mean_absolute_error',\n",
    "              optimizer='sgd',\n",
    "              metrics=['accuracy'])\n",
    "history = model.fit(x_new, y_new, validation_split=0.25, epochs=50, batch_size=100)"
   ]
  },
  {
   "cell_type": "markdown",
   "metadata": {},
   "source": [
    "## Exercise: Maximum of 4 colors\n",
    "\n",
    "Implement a network that will receive 4 colors and has to select one of them.\n",
    "\n",
    "This will require a change of the labels (y) that now take values of 0, 1, 2 or 3. However, networks do not use labels in that form directly for multi class classification, but use 1-hot encoded or categorical data instead.\n",
    "\n",
    "In keras there is a function `keras.utils.to_categorical` that can be used for that.\n",
    "\n",
    "The last layer in the network should then no longer be sigmoid, but the softmax function. And we need the multiclass form of the crossentropy function, which in keras is called `categorical_crossentropy`.\n"
   ]
  },
  {
   "cell_type": "code",
   "execution_count": 110,
   "metadata": {},
   "outputs": [],
   "source": [
    "x_train = np.random.random(size=(5000, 4))\n",
    "y_train_label = np.argmax(x_train, axis=1)\n"
   ]
  },
  {
   "cell_type": "markdown",
   "metadata": {},
   "source": [
    "## Exercise: Implement a ML Network to learn trump from features\n",
    "\n",
    "We would like to train a network to get the trump from some features. (We could use the cards directly, but this is deep learning and we will see more of that in next lesson :-) )\n",
    "\n",
    "As features we can use the number of cards of a color as before and some of the features from last lecture. For keras all input features should be floating point numbers. Also we need numpy arrays and not pandas. To get the array from a panda, the property `values` can be used."
   ]
  },
  {
   "cell_type": "code",
   "execution_count": 138,
   "metadata": {},
   "outputs": [
    {
     "name": "stdout",
     "output_type": "stream",
     "text": [
      "   DA  DK  DQ  DJ  D10  D9  D8  D7  D6  HA  ...  CK  CQ  CJ  C10  C9  C8  C7  \\\n",
      "0   0   0   0   1    1   0   1   1   0   0  ...   0   1   0    0   0   1   0   \n",
      "1   0   0   0   0    0   0   0   0   1   1  ...   0   0   1    0   0   0   1   \n",
      "2   1   0   0   1    0   0   0   0   0   0  ...   0   1   0    0   0   0   1   \n",
      "3   0   0   0   0    0   0   0   0   0   1  ...   0   0   0    1   1   0   0   \n",
      "4   0   1   0   0    0   0   0   0   1   1  ...   0   0   1    0   0   0   0   \n",
      "\n",
      "   C6  FH  trump  \n",
      "0   0   0      6  \n",
      "1   0   0      5  \n",
      "2   1   0      6  \n",
      "3   0   0      5  \n",
      "4   0   1      4  \n",
      "\n",
      "[5 rows x 38 columns]\n"
     ]
    }
   ],
   "source": [
    "import pandas as pd\n",
    "from pathlib import Path\n",
    "\n",
    "path_to_data = Path('../ml/')\n",
    "# Import only a fraction of data for efficient testing\n",
    "data = pd.read_csv(path_to_data / '2018_10_18_trump.csv', header=None)\n",
    "cards = [\n",
    "    # Diamonds\n",
    "    'DA', 'DK', 'DQ', 'DJ', 'D10', 'D9', 'D8', 'D7', 'D6',\n",
    "    # Hearts\n",
    "    'HA', 'HK', 'HQ', 'HJ', 'H10', 'H9', 'H8', 'H7', 'H6',\n",
    "    # Spades\n",
    "    'SA', 'SK', 'SQ', 'SJ', 'S10', 'S9', 'S8', 'S7', 'S6',\n",
    "    # Clubs\n",
    "    'CA', 'CK', 'CQ', 'CJ', 'C10', 'C9', 'C8', 'C7', 'C6'\n",
    "]\n",
    "\n",
    "# Forehand (yes = 1, no = 0)\n",
    "forehand = ['FH']\n",
    "\n",
    "user = ['user']\n",
    "trump = ['trump']\n",
    "\n",
    "data.columns = cards + forehand + user + trump\n",
    "feature_columns = cards + forehand\n",
    "data.drop('user', axis='columns', inplace=True)\n",
    "# data.trump = data.trump.astype('category')\n",
    "\n",
    "# data.shape\n",
    "print(data.head())"
   ]
  },
  {
   "cell_type": "code",
   "execution_count": 139,
   "outputs": [
    {
     "name": "stdout",
     "output_type": "stream",
     "text": [
      "   DA  DK  DQ  DJ  D10  D9  D8  D7  D6  HA  ...  C8  C7  C6  FH  D  H  S  C  \\\n",
      "0   0   0   0   1    1   0   1   1   0   0  ...   1   0   0   0  0  0  0  0   \n",
      "1   0   0   0   0    0   0   0   0   1   1  ...   0   1   0   0  0  0  0  0   \n",
      "2   1   0   0   1    0   0   0   0   0   0  ...   0   1   1   0  0  0  0  0   \n",
      "3   0   0   0   0    0   0   0   0   0   1  ...   0   0   0   0  0  0  0  0   \n",
      "4   0   1   0   0    0   0   0   0   1   1  ...   0   0   0   1  0  0  0  1   \n",
      "\n",
      "   O  U  \n",
      "0  0  1  \n",
      "1  1  0  \n",
      "2  0  1  \n",
      "3  1  0  \n",
      "4  0  0  \n",
      "\n",
      "[5 rows x 43 columns]\n"
     ]
    }
   ],
   "source": [
    "dummy1 = pd.get_dummies(data['trump'], drop_first=True)\n",
    "dummy1.head()\n",
    "trumps = ['D', 'H', 'S', 'C', 'O', 'U']\n",
    "dummy1.columns = trumps\n",
    "dummy1.head()\n",
    "data = pd.concat([data, dummy1], axis=1).drop('trump', axis=1)\n",
    "print(data.head())"
   ],
   "metadata": {
    "collapsed": false
   }
  },
  {
   "cell_type": "code",
   "execution_count": 140,
   "outputs": [
    {
     "name": "stdout",
     "output_type": "stream",
     "text": [
      "   DA  DK  DQ  DJ  D10  D9  D8  D7  D6  HA  ...  D_678  H_J9  H_AKQ  H_678  \\\n",
      "0   0   0   0   1    1   0   1   1   0   0  ...      0     0      0      0   \n",
      "1   0   0   0   0    0   0   0   0   1   1  ...      0     0      0      0   \n",
      "2   1   0   0   1    0   0   0   0   0   0  ...      0     0      0      0   \n",
      "3   0   0   0   0    0   0   0   0   0   1  ...      0     0      0      0   \n",
      "4   0   1   0   0    0   0   0   0   1   1  ...      0     0      1      0   \n",
      "\n",
      "   S_J9  S_AKQ  S_678  C_J9  C_AKQ  C_678  \n",
      "0     0      0      0     0      0      0  \n",
      "1     0      0      0     0      0      0  \n",
      "2     0      0      0     0      0      0  \n",
      "3     0      0      0     0      0      0  \n",
      "4     0      0      0     0      0      0  \n",
      "\n",
      "[5 rows x 55 columns]\n"
     ]
    }
   ],
   "source": [
    "for color in 'DHSC':\n",
    "    # Jack and nine combination\n",
    "    new_col = '{}_J9'.format(color)\n",
    "    data[new_col] = data['{}J'.format(color)] & data['{}9'.format(color)]\n",
    "    feature_columns.append(new_col)\n",
    "\n",
    "    new_col = '{}_AKQ'.format(color)\n",
    "    data[new_col] = data['{}A'.format(color)] & data['{}K'.format(color)] & data['{}Q'.format(color)]\n",
    "    feature_columns.append(new_col)\n",
    "\n",
    "    new_col = '{}_678'.format(color)\n",
    "    data[new_col] = data['{}6'.format(color)] & data['{}7'.format(color)] & data['{}8'.format(color)]\n",
    "    feature_columns.append(new_col)\n",
    "\n",
    "print(data.head())"
   ],
   "metadata": {
    "collapsed": false
   }
  },
  {
   "cell_type": "markdown",
   "metadata": {},
   "source": [
    "Continue as follows:\n",
    "- Calculate features, \n",
    "- add them to the data set\n",
    "- drop the columns not used\n",
    "- convert to numpy array\n",
    "- build a network and train"
   ]
  },
  {
   "cell_type": "code",
   "execution_count": 141,
   "outputs": [
    {
     "name": "stdout",
     "output_type": "stream",
     "text": [
      "(287860, 49)\n",
      "        DA  DK  DQ  DJ  D10  D9  D8  D7  D6  HA  ...  D_678  H_J9  H_AKQ  \\\n",
      "311259   1   0   0   0    1   0   0   0   0   1  ...      0     0      0   \n",
      "79927    0   0   1   0    0   1   0   1   1   0  ...      0     0      0   \n",
      "133742   1   0   1   1    0   0   0   0   0   0  ...      0     0      0   \n",
      "338250   0   1   0   0    0   1   1   0   0   0  ...      0     0      0   \n",
      "65075    0   0   0   0    0   1   0   0   0   0  ...      0     0      0   \n",
      "\n",
      "        H_678  S_J9  S_AKQ  S_678  C_J9  C_AKQ  C_678  \n",
      "311259      0     0      0      0     0      0      0  \n",
      "79927       0     0      0      0     0      0      0  \n",
      "133742      0     0      0      0     1      0      0  \n",
      "338250      0     0      0      0     0      0      0  \n",
      "65075       0     0      0      0     1      0      0  \n",
      "\n",
      "[5 rows x 49 columns]\n"
     ]
    }
   ],
   "source": [
    "from sklearn.model_selection import train_test_split\n",
    "\n",
    "X_train, X_test, y_train, y_test = train_test_split(data[feature_columns], data[trumps], test_size=0.2,\n",
    "                                                    stratify=data[trumps], random_state=42, shuffle=True)\n",
    "print(X_train.shape)\n",
    "print(X_train.head())"
   ],
   "metadata": {
    "collapsed": false
   }
  },
  {
   "cell_type": "code",
   "execution_count": 150,
   "metadata": {},
   "outputs": [
    {
     "name": "stdout",
     "output_type": "stream",
     "text": [
      "Epoch 1/10\n",
      "2249/2249 [==============================] - 5s 2ms/step - loss: 0.7653 - accuracy: 0.6160\n",
      "Epoch 2/10\n",
      "2249/2249 [==============================] - 5s 2ms/step - loss: 0.7585 - accuracy: 0.6183\n",
      "Epoch 3/10\n",
      "2249/2249 [==============================] - 6s 2ms/step - loss: 0.7625 - accuracy: 0.6187\n",
      "Epoch 4/10\n",
      "2249/2249 [==============================] - 5s 2ms/step - loss: 0.7647 - accuracy: 0.6183\n",
      "Epoch 5/10\n",
      "2249/2249 [==============================] - 5s 2ms/step - loss: 0.7673 - accuracy: 0.6188\n",
      "Epoch 6/10\n",
      "2249/2249 [==============================] - 5s 2ms/step - loss: 0.7694 - accuracy: 0.6181\n",
      "Epoch 7/10\n",
      "2249/2249 [==============================] - 5s 2ms/step - loss: 0.7740 - accuracy: 0.6188\n",
      "Epoch 8/10\n",
      "2249/2249 [==============================] - 5s 2ms/step - loss: 0.7776 - accuracy: 0.6182\n",
      "Epoch 9/10\n",
      "2249/2249 [==============================] - 5s 2ms/step - loss: 0.7767 - accuracy: 0.6187\n",
      "Epoch 10/10\n",
      "2249/2249 [==============================] - 5s 2ms/step - loss: 0.7805 - accuracy: 0.6180\n"
     ]
    },
    {
     "data": {
      "text/plain": "<Figure size 640x480 with 1 Axes>",
      "image/png": "[encoded data removed]"
     },
     "metadata": {},
     "output_type": "display_data"
    },
    {
     "name": "stdout",
     "output_type": "stream",
     "text": [
      "2249/2249 [==============================] - 2s 890us/step\n"
     ]
    },
    {
     "ename": "ValueError",
     "evalue": "Classification metrics can't handle a mix of multilabel-indicator and continuous-multioutput targets",
     "output_type": "error",
     "traceback": [
      "\u001B[1;31m---------------------------------------------------------------------------\u001B[0m",
      "\u001B[1;31mValueError\u001B[0m                                Traceback (most recent call last)",
      "Cell \u001B[1;32mIn [150], line 29\u001B[0m\n\u001B[0;32m     27\u001B[0m plot_costs(history\u001B[38;5;241m.\u001B[39mhistory[\u001B[38;5;124m\"\u001B[39m\u001B[38;5;124mloss\u001B[39m\u001B[38;5;124m\"\u001B[39m])\n\u001B[0;32m     28\u001B[0m y_pred \u001B[38;5;241m=\u001B[39m model\u001B[38;5;241m.\u001B[39mpredict(X_test)\n\u001B[1;32m---> 29\u001B[0m accuracy \u001B[38;5;241m=\u001B[39m \u001B[43maccuracy_score\u001B[49m\u001B[43m(\u001B[49m\u001B[43my_test\u001B[49m\u001B[43m,\u001B[49m\u001B[43m \u001B[49m\u001B[43my_pred\u001B[49m\u001B[43m)\u001B[49m\n\u001B[0;32m     30\u001B[0m \u001B[38;5;66;03m# f1 = f1_score(y_test, y_pred)\u001B[39;00m\n\u001B[0;32m     32\u001B[0m \u001B[38;5;28mprint\u001B[39m(\u001B[38;5;124m\"\u001B[39m\u001B[38;5;124mAccuracy: \u001B[39m\u001B[38;5;132;01m%.4f\u001B[39;00m\u001B[38;5;124m\"\u001B[39m \u001B[38;5;241m%\u001B[39m accuracy)\n",
      "File \u001B[1;32m~\\.virtualenvs\\DL4G-xN77NjMz\\lib\\site-packages\\sklearn\\metrics\\_classification.py:211\u001B[0m, in \u001B[0;36maccuracy_score\u001B[1;34m(y_true, y_pred, normalize, sample_weight)\u001B[0m\n\u001B[0;32m    145\u001B[0m \u001B[38;5;124;03m\"\"\"Accuracy classification score.\u001B[39;00m\n\u001B[0;32m    146\u001B[0m \n\u001B[0;32m    147\u001B[0m \u001B[38;5;124;03mIn multilabel classification, this function computes subset accuracy:\u001B[39;00m\n\u001B[1;32m   (...)\u001B[0m\n\u001B[0;32m    207\u001B[0m \u001B[38;5;124;03m0.5\u001B[39;00m\n\u001B[0;32m    208\u001B[0m \u001B[38;5;124;03m\"\"\"\u001B[39;00m\n\u001B[0;32m    210\u001B[0m \u001B[38;5;66;03m# Compute accuracy for each possible representation\u001B[39;00m\n\u001B[1;32m--> 211\u001B[0m y_type, y_true, y_pred \u001B[38;5;241m=\u001B[39m \u001B[43m_check_targets\u001B[49m\u001B[43m(\u001B[49m\u001B[43my_true\u001B[49m\u001B[43m,\u001B[49m\u001B[43m \u001B[49m\u001B[43my_pred\u001B[49m\u001B[43m)\u001B[49m\n\u001B[0;32m    212\u001B[0m check_consistent_length(y_true, y_pred, sample_weight)\n\u001B[0;32m    213\u001B[0m \u001B[38;5;28;01mif\u001B[39;00m y_type\u001B[38;5;241m.\u001B[39mstartswith(\u001B[38;5;124m\"\u001B[39m\u001B[38;5;124mmultilabel\u001B[39m\u001B[38;5;124m\"\u001B[39m):\n",
      "File \u001B[1;32m~\\.virtualenvs\\DL4G-xN77NjMz\\lib\\site-packages\\sklearn\\metrics\\_classification.py:93\u001B[0m, in \u001B[0;36m_check_targets\u001B[1;34m(y_true, y_pred)\u001B[0m\n\u001B[0;32m     90\u001B[0m     y_type \u001B[38;5;241m=\u001B[39m {\u001B[38;5;124m\"\u001B[39m\u001B[38;5;124mmulticlass\u001B[39m\u001B[38;5;124m\"\u001B[39m}\n\u001B[0;32m     92\u001B[0m \u001B[38;5;28;01mif\u001B[39;00m \u001B[38;5;28mlen\u001B[39m(y_type) \u001B[38;5;241m>\u001B[39m \u001B[38;5;241m1\u001B[39m:\n\u001B[1;32m---> 93\u001B[0m     \u001B[38;5;28;01mraise\u001B[39;00m \u001B[38;5;167;01mValueError\u001B[39;00m(\n\u001B[0;32m     94\u001B[0m         \u001B[38;5;124m\"\u001B[39m\u001B[38;5;124mClassification metrics can\u001B[39m\u001B[38;5;124m'\u001B[39m\u001B[38;5;124mt handle a mix of \u001B[39m\u001B[38;5;132;01m{0}\u001B[39;00m\u001B[38;5;124m and \u001B[39m\u001B[38;5;132;01m{1}\u001B[39;00m\u001B[38;5;124m targets\u001B[39m\u001B[38;5;124m\"\u001B[39m\u001B[38;5;241m.\u001B[39mformat(\n\u001B[0;32m     95\u001B[0m             type_true, type_pred\n\u001B[0;32m     96\u001B[0m         )\n\u001B[0;32m     97\u001B[0m     )\n\u001B[0;32m     99\u001B[0m \u001B[38;5;66;03m# We can't have more than one value on y_type => The set is no more needed\u001B[39;00m\n\u001B[0;32m    100\u001B[0m y_type \u001B[38;5;241m=\u001B[39m y_type\u001B[38;5;241m.\u001B[39mpop()\n",
      "\u001B[1;31mValueError\u001B[0m: Classification metrics can't handle a mix of multilabel-indicator and continuous-multioutput targets"
     ]
    }
   ],
   "source": [
    "from sklearn.metrics import accuracy_score\n",
    "from tensorflow import keras\n",
    "import matplotlib.pyplot as plt\n",
    "\n",
    "model = keras.Sequential()\n",
    "dataset_dim = X_train.shape[1]\n",
    "\n",
    "model.add(keras.layers.Dense(49, activation=keras.activations.tanh, input_shape=(dataset_dim,)))\n",
    "model.add(keras.layers.Dense(300, activation=keras.activations.tanh))\n",
    "model.add(keras.layers.Dense(200, activation=keras.activations.tanh))\n",
    "# model.add(keras.layers.Dense(200, activation=keras.activations.sigmo id))\n",
    "# model.add(keras.layers.Dense(100, activation=keras.activations.sigmoid))\n",
    "model.add(keras.layers.Dense(6, activation=keras.activations.softmax))\n",
    "model.compile(loss=keras.losses.CategoricalCrossentropy(),\n",
    "              optimizer='adam',\n",
    "              metrics=['accuracy'])\n",
    "history = model.fit(X_train, y_train, epochs=10, batch_size=128)\n",
    "\n",
    "\n",
    "def plot_costs(costs):\n",
    "    fig, ax = plt.subplots()\n",
    "    ax.plot(costs)\n",
    "    ax.set_title(\"Loss curve\")\n",
    "    plt.show()\n",
    "\n",
    "\n",
    "plot_costs(history.history[\"loss\"])\n",
    "y_pred = model.predict(X_test)\n",
    "accuracy = accuracy_score(y_test, y_pred)\n",
    "# f1 = f1_score(y_test, y_pred)\n",
    "\n",
    "print(\"Accuracy: %.4f\" % accuracy)"
   ]
  },
  {
   "cell_type": "code",
   "execution_count": 151,
   "outputs": [
    {
     "name": "stdout",
     "output_type": "stream",
     "text": [
      "2249/2249 [==============================] - 2s 912us/step\n",
      "563/563 [==============================] - 1s 1ms/step - loss: 0.8032 - accuracy: 0.6128\n",
      "test loss, test acc: [0.8031876683235168, 0.6127700805664062]\n",
      "[[8.69500339e-02 4.03172299e-02 4.21593599e-02 1.15867004e-01\n",
      "  7.98678026e-02 6.34838581e-01]\n",
      " [1.35023452e-04 6.83764592e-05 8.20504222e-03 2.18304322e-05\n",
      "  9.91342783e-01 2.26895922e-04]\n",
      " [1.16366655e-05 4.58189892e-03 1.02515071e-06 3.21878724e-06\n",
      "  9.92438793e-01 2.96335644e-03]\n",
      " ...\n",
      " [1.72740538e-02 7.33933784e-03 3.91145170e-01 1.65920295e-02\n",
      "  2.02052798e-02 5.47444105e-01]\n",
      " [2.86147883e-06 7.24634575e-03 1.11947747e-06 5.75867052e-05\n",
      "  9.92690742e-01 1.32568505e-06]\n",
      " [9.00015384e-02 4.23376337e-02 4.40026820e-02 8.83469954e-02\n",
      "  9.52929482e-02 6.40018284e-01]]\n"
     ]
    }
   ],
   "source": [
    "y_pred = model.predict(X_test)\n",
    "result = model.evaluate(X_test, y_test, batch_size=128)\n",
    "print(\"test loss, test acc:\", result)\n",
    "print(y_pred)"
   ],
   "metadata": {
    "collapsed": false
   }
  },
  {
   "cell_type": "code",
   "execution_count": 147,
   "outputs": [
    {
     "name": "stdout",
     "output_type": "stream",
     "text": [
      "INFO:tensorflow:Assets written to: mlp_model_v2\\assets\n"
     ]
    }
   ],
   "source": [
    "model.save(\"mlp_model_v2\")"
   ],
   "metadata": {
    "collapsed": false
   }
  },
  {
   "cell_type": "code",
   "execution_count": null,
   "outputs": [],
   "source": [],
   "metadata": {
    "collapsed": false
   }
  }
 ],
 "metadata": {
  "kernelspec": {
   "display_name": "Python 3",
   "language": "python",
   "name": "python3"
  },
  "language_info": {
   "codemirror_mode": {
    "name": "ipython",
    "version": 3
   },
   "file_extension": ".py",
   "mimetype": "text/x-python",
   "name": "python",
   "nbconvert_exporter": "python",
   "pygments_lexer": "ipython3",
   "version": "3.7.9"
  }
 },
 "nbformat": 4,
 "nbformat_minor": 2
}
